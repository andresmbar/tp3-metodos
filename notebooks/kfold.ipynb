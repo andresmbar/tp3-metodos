{
 "cells": [
  {
   "cell_type": "markdown",
   "id": "eb80c930",
   "metadata": {},
   "source": [
    "# Método k-fold de Validación Cruzada"
   ]
  },
  {
   "cell_type": "markdown",
   "id": "0c65d730",
   "metadata": {},
   "source": [
    "## Defino la función kFold\n",
    "\n",
    "### Parámetros\n",
    "\n",
    "**Datos:** Path al archivos train.csv.<br>\n",
    "**cantFolds:** Es la cantidad de folds. Se ejecuta kNN por cada fold, así que no conviene poner más de 5 para que no demore tanto la ejecución.<br>\n",
    "**k:** Parámetro k de kNN.<br>\n",
    "**alfa:** Parámetro alfa de PCA. Si ponen alfa=0 se ejecuta kNN sin PCA.<br>\n",
    "**semilla:** Es un parámetro opcional para que los resultados sean reproducibles, porque los datos de entrada se distribuyen en los folds de manera aleatoria.\n",
    "\n",
    "Devuelve una lista con el accuracy de cada ejecución de kNN"
   ]
  },
  {
   "cell_type": "code",
   "execution_count": 2,
   "id": "1d079c2f",
   "metadata": {},
   "outputs": [],
   "source": [
    "import pandas as pd\n",
    "import numpy as np\n",
    "import metnum\n",
    "from tqdm import tqdm\n",
    "from sklearn.metrics import accuracy_score\n",
    "\n",
    "def kFold(datos, cantFolds, k, alfa, semilla=None):\n",
    "    # Cargo los datos\n",
    "    df_train = pd.read_csv(datos)\n",
    "    \n",
    "    # Desordeno los datos\n",
    "    df_train = df_train.sample(frac=1, random_state=semilla)\n",
    "    \n",
    "    # Separo los datos en pixeles y etiquetas y los guardo en arrays de numpy\n",
    "    X = df_train[df_train.columns[1:]].values\n",
    "    y = df_train[\"label\"].values.reshape(-1, 1)\n",
    "    \n",
    "    # Aplico PCA\n",
    "    if (alfa > 0):\n",
    "        pca = metnum.PCA(alfa)\n",
    "        X = pca.transform(X)\n",
    "    \n",
    "    # Particiono el conjunto de datos en k folds del mismo tamaño\n",
    "    folds = []\n",
    "    limites = [0]\n",
    "    \n",
    "    for i in range(1,cantFolds+1):\n",
    "        datosPorFold = len(df_train)//cantFolds\n",
    "        limites.append(i*datosPorFold)\n",
    "    \n",
    "    for i in range(len(limites)-1):\n",
    "        folds.append([X[limites[i]:limites[i+1]], y[limites[i]:limites[i+1]]])\n",
    "        \n",
    "    # Aplico kNN\n",
    "    clf = metnum.KNNClassifier(k)\n",
    "    acc = []\n",
    "    \n",
    "    for i in tqdm(range(cantFolds)):\n",
    "        # Creo una lista para separar el índice del fold que voy a usar para validar\n",
    "        indices = [[],i]\n",
    "        for j in range(cantFolds):\n",
    "            if (j != i):\n",
    "                indices[0].append(j)\n",
    "\n",
    "        X_val = folds[indices[1]][0]\n",
    "        y_val = folds[indices[1]][1]\n",
    "\n",
    "        # Uno todos los folds que voy a usar para entrenar en un único array de numpy\n",
    "        X_train = folds[indices[0][0]][0]\n",
    "        y_train = folds[indices[0][0]][1]\n",
    "        indices[0].pop()\n",
    "\n",
    "        for j in indices[0]:\n",
    "            X_train = np.concatenate([X_train, folds[j][0]])\n",
    "            y_train = np.concatenate([y_train, folds[j][1]])\n",
    "\n",
    "        # Aplico kNN\n",
    "        clf.fit(X_train, y_train)\n",
    "        y_pred = clf.predict(X_val)\n",
    "        acc.append(accuracy_score(y_val, y_pred))\n",
    "    \n",
    "    return acc"
   ]
  },
  {
   "cell_type": "markdown",
   "id": "e4d91591",
   "metadata": {},
   "source": [
    "### Fijo los parámetros k de kNN, alfa de PCA y la cantidad de folds, y pruebo desordenar el dataset con varias semillas diferentes."
   ]
  },
  {
   "cell_type": "code",
   "execution_count": 2,
   "id": "31ac4336",
   "metadata": {},
   "outputs": [],
   "source": [
    "datos = \"../data/train.csv\""
   ]
  },
  {
   "cell_type": "code",
   "execution_count": 3,
   "id": "ecc557d0",
   "metadata": {},
   "outputs": [],
   "source": [
    "semillas = [10,20,50,100,200,300,400,500,5000,6000,7000,8000]\n",
    "resultados1 = []\n",
    "alfa = 15\n",
    "k = 10\n",
    "cantFolds = 5"
   ]
  },
  {
   "cell_type": "code",
   "execution_count": 4,
   "id": "ec3b2422",
   "metadata": {},
   "outputs": [
    {
     "name": "stderr",
     "output_type": "stream",
     "text": [
      "  0%|          | 0/12 [00:00<?, ?it/s]\n",
      "  0%|          | 0/5 [00:00<?, ?it/s]\u001b[A\n",
      " 20%|██        | 1/5 [00:33<02:14, 33.58s/it]\u001b[A\n",
      " 40%|████      | 2/5 [01:08<01:42, 34.16s/it]\u001b[A\n",
      " 60%|██████    | 3/5 [01:41<01:07, 33.68s/it]\u001b[A\n",
      " 80%|████████  | 4/5 [02:15<00:33, 33.94s/it]\u001b[A\n",
      "100%|██████████| 5/5 [02:48<00:00, 33.74s/it]\n",
      "  8%|▊         | 1/12 [03:26<37:47, 206.18s/it]\n",
      "  0%|          | 0/5 [00:00<?, ?it/s]\u001b[A\n",
      " 20%|██        | 1/5 [00:33<02:12, 33.12s/it]\u001b[A\n",
      " 40%|████      | 2/5 [01:06<01:39, 33.18s/it]\u001b[A\n",
      " 60%|██████    | 3/5 [01:39<01:06, 33.19s/it]\u001b[A\n",
      " 80%|████████  | 4/5 [02:12<00:33, 33.28s/it]\u001b[A\n",
      "100%|██████████| 5/5 [02:46<00:00, 33.23s/it]\n",
      " 17%|█▋        | 2/12 [06:42<33:22, 200.25s/it]\n",
      "  0%|          | 0/5 [00:00<?, ?it/s]\u001b[A\n",
      " 20%|██        | 1/5 [00:33<02:15, 33.90s/it]\u001b[A\n",
      " 40%|████      | 2/5 [01:06<01:40, 33.34s/it]\u001b[A\n",
      " 60%|██████    | 3/5 [01:39<01:05, 32.97s/it]\u001b[A\n",
      " 80%|████████  | 4/5 [02:11<00:32, 32.79s/it]\u001b[A\n",
      "100%|██████████| 5/5 [02:44<00:00, 32.89s/it]\n",
      " 25%|██▌       | 3/12 [09:58<29:47, 198.56s/it]\n",
      "  0%|          | 0/5 [00:00<?, ?it/s]\u001b[A\n",
      " 20%|██        | 1/5 [00:32<02:10, 32.56s/it]\u001b[A\n",
      " 40%|████      | 2/5 [01:05<01:37, 32.55s/it]\u001b[A\n",
      " 60%|██████    | 3/5 [01:37<01:05, 32.60s/it]\u001b[A\n",
      " 80%|████████  | 4/5 [02:10<00:32, 32.57s/it]\u001b[A\n",
      "100%|██████████| 5/5 [02:42<00:00, 32.56s/it]\n",
      " 33%|███▎      | 4/12 [13:10<26:07, 195.91s/it]\n",
      "  0%|          | 0/5 [00:00<?, ?it/s]\u001b[A\n",
      " 20%|██        | 1/5 [00:32<02:10, 32.68s/it]\u001b[A\n",
      " 40%|████      | 2/5 [01:05<01:37, 32.60s/it]\u001b[A\n",
      " 60%|██████    | 3/5 [01:38<01:06, 33.00s/it]\u001b[A\n",
      " 80%|████████  | 4/5 [02:11<00:33, 33.01s/it]\u001b[A\n",
      "100%|██████████| 5/5 [02:44<00:00, 32.92s/it]\n",
      " 42%|████▏     | 5/12 [16:24<22:45, 195.07s/it]\n",
      "  0%|          | 0/5 [00:00<?, ?it/s]\u001b[A\n",
      " 20%|██        | 1/5 [00:33<02:12, 33.10s/it]\u001b[A\n",
      " 40%|████      | 2/5 [01:06<01:39, 33.17s/it]\u001b[A\n",
      " 60%|██████    | 3/5 [01:39<01:06, 33.07s/it]\u001b[A\n",
      " 80%|████████  | 4/5 [02:12<00:32, 32.98s/it]\u001b[A\n",
      "100%|██████████| 5/5 [02:44<00:00, 33.00s/it]\n",
      " 50%|█████     | 6/12 [19:38<19:28, 194.79s/it]\n",
      "  0%|          | 0/5 [00:00<?, ?it/s]\u001b[A\n",
      " 20%|██        | 1/5 [00:33<02:12, 33.10s/it]\u001b[A\n",
      " 40%|████      | 2/5 [01:05<01:38, 32.91s/it]\u001b[A\n",
      " 60%|██████    | 3/5 [01:38<01:05, 32.77s/it]\u001b[A\n",
      " 80%|████████  | 4/5 [02:11<00:32, 32.71s/it]\u001b[A\n",
      "100%|██████████| 5/5 [02:43<00:00, 32.75s/it]\n",
      " 58%|█████▊    | 7/12 [22:53<16:13, 194.72s/it]\n",
      "  0%|          | 0/5 [00:00<?, ?it/s]\u001b[A\n",
      " 20%|██        | 1/5 [00:32<02:10, 32.61s/it]\u001b[A\n",
      " 40%|████      | 2/5 [01:05<01:37, 32.61s/it]\u001b[A\n",
      " 60%|██████    | 3/5 [01:37<01:05, 32.58s/it]\u001b[A\n",
      " 80%|████████  | 4/5 [02:10<00:32, 32.56s/it]\u001b[A\n",
      "100%|██████████| 5/5 [02:42<00:00, 32.56s/it]\n",
      " 67%|██████▋   | 8/12 [26:05<12:55, 193.83s/it]\n",
      "  0%|          | 0/5 [00:00<?, ?it/s]\u001b[A\n",
      " 20%|██        | 1/5 [00:32<02:10, 32.62s/it]\u001b[A\n",
      " 40%|████      | 2/5 [01:05<01:37, 32.64s/it]\u001b[A\n",
      " 60%|██████    | 3/5 [01:37<01:05, 32.65s/it]\u001b[A\n",
      " 80%|████████  | 4/5 [02:10<00:32, 32.66s/it]\u001b[A\n",
      "100%|██████████| 5/5 [02:43<00:00, 32.66s/it]\n",
      " 75%|███████▌  | 9/12 [29:17<09:40, 193.38s/it]\n",
      "  0%|          | 0/5 [00:00<?, ?it/s]\u001b[A\n",
      " 20%|██        | 1/5 [00:32<02:10, 32.60s/it]\u001b[A\n",
      " 40%|████      | 2/5 [01:05<01:37, 32.56s/it]\u001b[A\n",
      " 60%|██████    | 3/5 [01:37<01:05, 32.60s/it]\u001b[A\n",
      " 80%|████████  | 4/5 [02:10<00:32, 32.61s/it]\u001b[A\n",
      "100%|██████████| 5/5 [02:43<00:00, 32.61s/it]\n",
      " 83%|████████▎ | 10/12 [32:27<06:24, 192.24s/it]\n",
      "  0%|          | 0/5 [00:00<?, ?it/s]\u001b[A\n",
      " 20%|██        | 1/5 [00:32<02:10, 32.65s/it]\u001b[A\n",
      " 40%|████      | 2/5 [01:05<01:37, 32.63s/it]\u001b[A\n",
      " 60%|██████    | 3/5 [01:37<01:05, 32.60s/it]\u001b[A\n",
      " 80%|████████  | 4/5 [02:10<00:32, 32.59s/it]\u001b[A\n",
      "100%|██████████| 5/5 [02:42<00:00, 32.60s/it]\n",
      " 92%|█████████▏| 11/12 [35:39<03:12, 192.26s/it]\n",
      "  0%|          | 0/5 [00:00<?, ?it/s]\u001b[A\n",
      " 20%|██        | 1/5 [00:32<02:10, 32.64s/it]\u001b[A\n",
      " 40%|████      | 2/5 [01:05<01:37, 32.58s/it]\u001b[A\n",
      " 60%|██████    | 3/5 [01:37<01:05, 32.59s/it]\u001b[A\n",
      " 80%|████████  | 4/5 [02:10<00:32, 32.60s/it]\u001b[A\n",
      "100%|██████████| 5/5 [02:43<00:00, 32.61s/it]\n",
      "100%|██████████| 12/12 [38:50<00:00, 194.24s/it]\n"
     ]
    }
   ],
   "source": [
    "for s in tqdm(semillas):\n",
    "    resultados1.append(kFold(datos,cantFolds,k,alfa,s))"
   ]
  },
  {
   "cell_type": "code",
   "execution_count": 5,
   "id": "4221d5f3",
   "metadata": {},
   "outputs": [
    {
     "data": {
      "text/plain": [
       "[[0.9488095238095238,\n",
       "  0.9521428571428572,\n",
       "  0.9544047619047619,\n",
       "  0.9486904761904762,\n",
       "  0.9453571428571429],\n",
       " [0.9517857142857142,\n",
       "  0.9501190476190476,\n",
       "  0.9479761904761905,\n",
       "  0.9486904761904762,\n",
       "  0.9513095238095238],\n",
       " [0.9536904761904762,\n",
       "  0.949047619047619,\n",
       "  0.9502380952380952,\n",
       "  0.9473809523809524,\n",
       "  0.949047619047619],\n",
       " [0.9514285714285714,\n",
       "  0.9523809523809523,\n",
       "  0.9523809523809523,\n",
       "  0.950952380952381,\n",
       "  0.9471428571428572],\n",
       " [0.9513095238095238,\n",
       "  0.9508333333333333,\n",
       "  0.9492857142857143,\n",
       "  0.9492857142857143,\n",
       "  0.9528571428571428],\n",
       " [0.9513095238095238,\n",
       "  0.9494047619047619,\n",
       "  0.9511904761904761,\n",
       "  0.9520238095238095,\n",
       "  0.9533333333333334],\n",
       " [0.9471428571428572,\n",
       "  0.9502380952380952,\n",
       "  0.9508333333333333,\n",
       "  0.9513095238095238,\n",
       "  0.9539285714285715],\n",
       " [0.9519047619047619,\n",
       "  0.9471428571428572,\n",
       "  0.9482142857142857,\n",
       "  0.9503571428571429,\n",
       "  0.9534523809523809],\n",
       " [0.9525,\n",
       "  0.950595238095238,\n",
       "  0.9529761904761904,\n",
       "  0.9508333333333333,\n",
       "  0.9472619047619047],\n",
       " [0.9501190476190476,\n",
       "  0.9527380952380953,\n",
       "  0.9514285714285714,\n",
       "  0.9465476190476191,\n",
       "  0.9489285714285715],\n",
       " [0.9444047619047619,\n",
       "  0.9527380952380953,\n",
       "  0.9520238095238095,\n",
       "  0.9544047619047619,\n",
       "  0.9463095238095238],\n",
       " [0.9528571428571428,\n",
       "  0.9478571428571428,\n",
       "  0.9489285714285715,\n",
       "  0.9466666666666667,\n",
       "  0.9525]]"
      ]
     },
     "execution_count": 5,
     "metadata": {},
     "output_type": "execute_result"
    }
   ],
   "source": [
    "resultados1"
   ]
  },
  {
   "cell_type": "code",
   "execution_count": 1,
   "id": "ee721dd8",
   "metadata": {},
   "outputs": [],
   "source": [
    "resultados1 = [[0.9488095238095238,\n",
    "  0.9521428571428572,\n",
    "  0.9544047619047619,\n",
    "  0.9486904761904762,\n",
    "  0.9453571428571429],\n",
    " [0.9517857142857142,\n",
    "  0.9501190476190476,\n",
    "  0.9479761904761905,\n",
    "  0.9486904761904762,\n",
    "  0.9513095238095238],\n",
    " [0.9536904761904762,\n",
    "  0.949047619047619,\n",
    "  0.9502380952380952,\n",
    "  0.9473809523809524,\n",
    "  0.949047619047619],\n",
    " [0.9514285714285714,\n",
    "  0.9523809523809523,\n",
    "  0.9523809523809523,\n",
    "  0.950952380952381,\n",
    "  0.9471428571428572],\n",
    " [0.9513095238095238,\n",
    "  0.9508333333333333,\n",
    "  0.9492857142857143,\n",
    "  0.9492857142857143,\n",
    "  0.9528571428571428],\n",
    " [0.9513095238095238,\n",
    "  0.9494047619047619,\n",
    "  0.9511904761904761,\n",
    "  0.9520238095238095,\n",
    "  0.9533333333333334],\n",
    " [0.9471428571428572,\n",
    "  0.9502380952380952,\n",
    "  0.9508333333333333,\n",
    "  0.9513095238095238,\n",
    "  0.9539285714285715],\n",
    " [0.9519047619047619,\n",
    "  0.9471428571428572,\n",
    "  0.9482142857142857,\n",
    "  0.9503571428571429,\n",
    "  0.9534523809523809],\n",
    " [0.9525,\n",
    "  0.950595238095238,\n",
    "  0.9529761904761904,\n",
    "  0.9508333333333333,\n",
    "  0.9472619047619047],\n",
    " [0.9501190476190476,\n",
    "  0.9527380952380953,\n",
    "  0.9514285714285714,\n",
    "  0.9465476190476191,\n",
    "  0.9489285714285715],\n",
    " [0.9444047619047619,\n",
    "  0.9527380952380953,\n",
    "  0.9520238095238095,\n",
    "  0.9544047619047619,\n",
    "  0.9463095238095238],\n",
    " [0.9528571428571428,\n",
    "  0.9478571428571428,\n",
    "  0.9489285714285715,\n",
    "  0.9466666666666667,\n",
    "  0.9525]]"
   ]
  },
  {
   "cell_type": "code",
   "execution_count": 117,
   "id": "24903151",
   "metadata": {},
   "outputs": [
    {
     "data": {
      "image/png": "[encoded data removed]",
      "text/plain": [
       "<Figure size 1080x1080 with 1 Axes>"
      ]
     },
     "metadata": {
      "needs_background": "light"
     },
     "output_type": "display_data"
    }
   ],
   "source": [
    "plt.boxplot(resultados1)\n",
    "plt.rcParams[\"figure.figsize\"] = [15,15]\n",
    "plt.xlabel('Semilla', fontsize=20)\n",
    "plt.ylabel('Accuracy', fontsize=20)\n",
    "plt.xticks(range(13), [\"\",10,20,50,100,200,300,400,500,5000,6000,7000,8000])\n",
    "plt.savefig(\"kfold_resultados1.png\", bbox_inches='tight')"
   ]
  },
  {
   "cell_type": "markdown",
   "id": "d229bab8",
   "metadata": {},
   "source": [
    "### Ahora me fijo las diferencias entre los resultados promedio y los resultados de las iteraciones que dejan al último fold para validar"
   ]
  },
  {
   "cell_type": "code",
   "execution_count": 20,
   "id": "e8c566c2",
   "metadata": {},
   "outputs": [],
   "source": [
    "promedios1 = []\n",
    "\n",
    "for r in resultados1:\n",
    "    promedios1.append(np.mean(r))\n",
    "\n",
    "diferencias1 = []\n",
    "\n",
    "for r in resultados1:\n",
    "    diferencias1.append(abs(np.mean(r) - r[4]))"
   ]
  },
  {
   "cell_type": "code",
   "execution_count": 21,
   "id": "0d288dc1",
   "metadata": {},
   "outputs": [
    {
     "data": {
      "text/plain": [
       "[0.9498809523809524,\n",
       " 0.9499761904761905,\n",
       " 0.9498809523809524,\n",
       " 0.9508571428571428,\n",
       " 0.9507142857142856,\n",
       " 0.9514523809523808,\n",
       " 0.9506904761904762,\n",
       " 0.9502142857142857,\n",
       " 0.9508333333333333,\n",
       " 0.949952380952381,\n",
       " 0.9499761904761904,\n",
       " 0.9497619047619048]"
      ]
     },
     "execution_count": 21,
     "metadata": {},
     "output_type": "execute_result"
    }
   ],
   "source": [
    "promedios1"
   ]
  },
  {
   "cell_type": "code",
   "execution_count": 22,
   "id": "205b2c0e",
   "metadata": {},
   "outputs": [
    {
     "data": {
      "text/plain": [
       "[0.0045238095238094855,\n",
       " 0.0013333333333332975,\n",
       " 0.0008333333333333526,\n",
       " 0.00371428571428567,\n",
       " 0.002142857142857224,\n",
       " 0.0018809523809525386,\n",
       " 0.003238095238095262,\n",
       " 0.003238095238095262,\n",
       " 0.0035714285714285587,\n",
       " 0.001023809523809538,\n",
       " 0.003666666666666596,\n",
       " 0.002738095238095206]"
      ]
     },
     "execution_count": 22,
     "metadata": {},
     "output_type": "execute_result"
    }
   ],
   "source": [
    "diferencias1"
   ]
  },
  {
   "cell_type": "code",
   "execution_count": 123,
   "id": "f927c3ce",
   "metadata": {},
   "outputs": [
    {
     "data": {
      "image/png": "[encoded data removed]",
      "text/plain": [
       "<Figure size 720x1080 with 1 Axes>"
      ]
     },
     "metadata": {
      "needs_background": "light"
     },
     "output_type": "display_data"
    }
   ],
   "source": [
    "plt.boxplot(diferencias1)\n",
    "plt.rcParams[\"figure.figsize\"] = [10,15]\n",
    "plt.xlabel('Error', fontsize=20)\n",
    "plt.ylabel('Accuracy', fontsize=20)\n",
    "plt.xticks([1],[\"\"])\n",
    "plt.savefig(\"kfold_diferencias1.png\", bbox_inches='tight')"
   ]
  },
  {
   "cell_type": "markdown",
   "id": "cf97f4c1",
   "metadata": {},
   "source": [
    "### Fijo una semilla y pruebo variando la cantidad de folds"
   ]
  },
  {
   "cell_type": "code",
   "execution_count": 6,
   "id": "a558444d",
   "metadata": {},
   "outputs": [
    {
     "name": "stderr",
     "output_type": "stream",
     "text": [
      "100%|██████████| 2/2 [01:35<00:00, 47.91s/it]\n",
      "100%|██████████| 3/3 [02:13<00:00, 44.36s/it]\n",
      "100%|██████████| 4/4 [02:30<00:00, 37.59s/it]\n",
      "100%|██████████| 5/5 [02:42<00:00, 32.60s/it]\n",
      "100%|██████████| 6/6 [02:50<00:00, 28.34s/it]\n",
      "100%|██████████| 7/7 [02:54<00:00, 24.97s/it]\n",
      "100%|██████████| 8/8 [02:58<00:00, 22.34s/it]\n",
      "100%|██████████| 9/9 [03:02<00:00, 20.23s/it]\n",
      "100%|██████████| 10/10 [03:05<00:00, 18.54s/it]\n",
      "100%|██████████| 11/11 [03:07<00:00, 17.08s/it]\n",
      "100%|██████████| 12/12 [03:09<00:00, 15.82s/it]\n",
      "100%|██████████| 13/13 [03:11<00:00, 14.75s/it]\n",
      "100%|██████████| 14/14 [03:13<00:00, 13.82s/it]\n",
      "100%|██████████| 15/15 [03:15<00:00, 13.02s/it]\n"
     ]
    }
   ],
   "source": [
    "s = 100\n",
    "cantFolds = [2,3,4,5,6,7,8,9,10,11,12,13,14,15]\n",
    "resultados2 = []\n",
    "\n",
    "for cf in cantFolds:\n",
    "    resultados2.append(kFold(datos,cf,k,alfa,s))"
   ]
  },
  {
   "cell_type": "code",
   "execution_count": 7,
   "id": "a17cc327",
   "metadata": {},
   "outputs": [
    {
     "data": {
      "text/plain": [
       "[[0.9473809523809524, 0.946952380952381],\n",
       " [0.9442857142857143, 0.9452142857142857, 0.9439285714285715],\n",
       " [0.9497142857142857, 0.9496190476190476, 0.9482857142857143, 0.946],\n",
       " [0.9514285714285714,\n",
       "  0.9523809523809523,\n",
       "  0.9523809523809523,\n",
       "  0.950952380952381,\n",
       "  0.9471428571428572],\n",
       " [0.9525714285714286,\n",
       "  0.9508571428571428,\n",
       "  0.9504285714285714,\n",
       "  0.9514285714285714,\n",
       "  0.9527142857142857,\n",
       "  0.9478571428571428],\n",
       " [0.9516666666666667,\n",
       "  0.9525,\n",
       "  0.9523333333333334,\n",
       "  0.9521666666666667,\n",
       "  0.953,\n",
       "  0.951,\n",
       "  0.9486666666666667],\n",
       " [0.952,\n",
       "  0.9527619047619048,\n",
       "  0.9544761904761905,\n",
       "  0.9542857142857143,\n",
       "  0.952952380952381,\n",
       "  0.9527619047619048,\n",
       "  0.9514285714285714,\n",
       "  0.9499047619047619],\n",
       " [0.9541363051864552,\n",
       "  0.953493356193742,\n",
       "  0.9549935705100728,\n",
       "  0.9554222031718816,\n",
       "  0.9502786112301758,\n",
       "  0.9564937848264038,\n",
       "  0.9502786112301758,\n",
       "  0.9513501928846978,\n",
       "  0.9504929275610802],\n",
       " [0.9538095238095238,\n",
       "  0.954047619047619,\n",
       "  0.9554761904761905,\n",
       "  0.9523809523809523,\n",
       "  0.9566666666666667,\n",
       "  0.9521428571428572,\n",
       "  0.9564285714285714,\n",
       "  0.9530952380952381,\n",
       "  0.9516666666666667,\n",
       "  0.9495238095238095],\n",
       " [0.9531168150864326,\n",
       "  0.9588789942378209,\n",
       "  0.9518072289156626,\n",
       "  0.9539025667888947,\n",
       "  0.9596647459402828,\n",
       "  0.9499738082765846,\n",
       "  0.9583551597695128,\n",
       "  0.9531168150864326,\n",
       "  0.9544264012572027,\n",
       "  0.9494499738082766,\n",
       "  0.9489261393399686],\n",
       " [0.952,\n",
       "  0.9582857142857143,\n",
       "  0.9522857142857143,\n",
       "  0.9551428571428572,\n",
       "  0.9542857142857143,\n",
       "  0.956,\n",
       "  0.9534285714285714,\n",
       "  0.958,\n",
       "  0.9517142857142857,\n",
       "  0.9554285714285714,\n",
       "  0.9497142857142857,\n",
       "  0.9497142857142857],\n",
       " [0.9538699690402477,\n",
       "  0.958204334365325,\n",
       "  0.9523219814241486,\n",
       "  0.9523219814241486,\n",
       "  0.9538699690402477,\n",
       "  0.9588235294117647,\n",
       "  0.9489164086687306,\n",
       "  0.9578947368421052,\n",
       "  0.9575851393188854,\n",
       "  0.9541795665634675,\n",
       "  0.9575851393188854,\n",
       "  0.9492260061919504,\n",
       "  0.9486068111455108],\n",
       " [0.9553333333333334,\n",
       "  0.9553333333333334,\n",
       "  0.954,\n",
       "  0.957,\n",
       "  0.953,\n",
       "  0.9566666666666667,\n",
       "  0.957,\n",
       "  0.9523333333333334,\n",
       "  0.9606666666666667,\n",
       "  0.954,\n",
       "  0.9536666666666667,\n",
       "  0.954,\n",
       "  0.9523333333333334,\n",
       "  0.9483333333333334],\n",
       " [0.955,\n",
       "  0.9560714285714286,\n",
       "  0.9532142857142857,\n",
       "  0.9557142857142857,\n",
       "  0.9557142857142857,\n",
       "  0.9539285714285715,\n",
       "  0.9589285714285715,\n",
       "  0.9485714285714286,\n",
       "  0.96,\n",
       "  0.9575,\n",
       "  0.9532142857142857,\n",
       "  0.9542857142857143,\n",
       "  0.9517857142857142,\n",
       "  0.9539285714285715,\n",
       "  0.9471428571428572]]"
      ]
     },
     "execution_count": 7,
     "metadata": {},
     "output_type": "execute_result"
    }
   ],
   "source": [
    "resultados2"
   ]
  },
  {
   "cell_type": "code",
   "execution_count": 19,
   "id": "279ee646",
   "metadata": {},
   "outputs": [],
   "source": [
    "resultados2 = [[0.9473809523809524, 0.946952380952381],\n",
    " [0.9442857142857143, 0.9452142857142857, 0.9439285714285715],\n",
    " [0.9497142857142857, 0.9496190476190476, 0.9482857142857143, 0.946],\n",
    " [0.9514285714285714,\n",
    "  0.9523809523809523,\n",
    "  0.9523809523809523,\n",
    "  0.950952380952381,\n",
    "  0.9471428571428572],\n",
    " [0.9525714285714286,\n",
    "  0.9508571428571428,\n",
    "  0.9504285714285714,\n",
    "  0.9514285714285714,\n",
    "  0.9527142857142857,\n",
    "  0.9478571428571428],\n",
    " [0.9516666666666667,\n",
    "  0.9525,\n",
    "  0.9523333333333334,\n",
    "  0.9521666666666667,\n",
    "  0.953,\n",
    "  0.951,\n",
    "  0.9486666666666667],\n",
    " [0.952,\n",
    "  0.9527619047619048,\n",
    "  0.9544761904761905,\n",
    "  0.9542857142857143,\n",
    "  0.952952380952381,\n",
    "  0.9527619047619048,\n",
    "  0.9514285714285714,\n",
    "  0.9499047619047619],\n",
    " [0.9541363051864552,\n",
    "  0.953493356193742,\n",
    "  0.9549935705100728,\n",
    "  0.9554222031718816,\n",
    "  0.9502786112301758,\n",
    "  0.9564937848264038,\n",
    "  0.9502786112301758,\n",
    "  0.9513501928846978,\n",
    "  0.9504929275610802],\n",
    " [0.9538095238095238,\n",
    "  0.954047619047619,\n",
    "  0.9554761904761905,\n",
    "  0.9523809523809523,\n",
    "  0.9566666666666667,\n",
    "  0.9521428571428572,\n",
    "  0.9564285714285714,\n",
    "  0.9530952380952381,\n",
    "  0.9516666666666667,\n",
    "  0.9495238095238095],\n",
    " [0.9531168150864326,\n",
    "  0.9588789942378209,\n",
    "  0.9518072289156626,\n",
    "  0.9539025667888947,\n",
    "  0.9596647459402828,\n",
    "  0.9499738082765846,\n",
    "  0.9583551597695128,\n",
    "  0.9531168150864326,\n",
    "  0.9544264012572027,\n",
    "  0.9494499738082766,\n",
    "  0.9489261393399686],\n",
    " [0.952,\n",
    "  0.9582857142857143,\n",
    "  0.9522857142857143,\n",
    "  0.9551428571428572,\n",
    "  0.9542857142857143,\n",
    "  0.956,\n",
    "  0.9534285714285714,\n",
    "  0.958,\n",
    "  0.9517142857142857,\n",
    "  0.9554285714285714,\n",
    "  0.9497142857142857,\n",
    "  0.9497142857142857],\n",
    " [0.9538699690402477,\n",
    "  0.958204334365325,\n",
    "  0.9523219814241486,\n",
    "  0.9523219814241486,\n",
    "  0.9538699690402477,\n",
    "  0.9588235294117647,\n",
    "  0.9489164086687306,\n",
    "  0.9578947368421052,\n",
    "  0.9575851393188854,\n",
    "  0.9541795665634675,\n",
    "  0.9575851393188854,\n",
    "  0.9492260061919504,\n",
    "  0.9486068111455108],\n",
    " [0.9553333333333334,\n",
    "  0.9553333333333334,\n",
    "  0.954,\n",
    "  0.957,\n",
    "  0.953,\n",
    "  0.9566666666666667,\n",
    "  0.957,\n",
    "  0.9523333333333334,\n",
    "  0.9606666666666667,\n",
    "  0.954,\n",
    "  0.9536666666666667,\n",
    "  0.954,\n",
    "  0.9523333333333334,\n",
    "  0.9483333333333334],\n",
    " [0.955,\n",
    "  0.9560714285714286,\n",
    "  0.9532142857142857,\n",
    "  0.9557142857142857,\n",
    "  0.9557142857142857,\n",
    "  0.9539285714285715,\n",
    "  0.9589285714285715,\n",
    "  0.9485714285714286,\n",
    "  0.96,\n",
    "  0.9575,\n",
    "  0.9532142857142857,\n",
    "  0.9542857142857143,\n",
    "  0.9517857142857142,\n",
    "  0.9539285714285715,\n",
    "  0.9471428571428572]]"
   ]
  },
  {
   "cell_type": "code",
   "execution_count": 23,
   "id": "845f929a",
   "metadata": {},
   "outputs": [],
   "source": [
    "promedios2 = []\n",
    "\n",
    "for r in resultados2:\n",
    "    promedios2.append(np.mean(r))\n",
    "\n",
    "diferencias2 = []\n",
    "\n",
    "for r in resultados2:\n",
    "    diferencias2.append(abs(np.mean(r) - r[len(r)-1]))"
   ]
  },
  {
   "cell_type": "code",
   "execution_count": 24,
   "id": "c61fdb57",
   "metadata": {},
   "outputs": [
    {
     "data": {
      "text/plain": [
       "[0.9471666666666667,\n",
       " 0.9444761904761906,\n",
       " 0.948404761904762,\n",
       " 0.9508571428571428,\n",
       " 0.9509761904761905,\n",
       " 0.9516190476190476,\n",
       " 0.9525714285714286,\n",
       " 0.952993284754965,\n",
       " 0.9535238095238094,\n",
       " 0.9537835135006429,\n",
       " 0.9538333333333333,\n",
       " 0.9541081209811861,\n",
       " 0.9545476190476192,\n",
       " 0.9543333333333333]"
      ]
     },
     "execution_count": 24,
     "metadata": {},
     "output_type": "execute_result"
    }
   ],
   "source": [
    "promedios2"
   ]
  },
  {
   "cell_type": "code",
   "execution_count": 25,
   "id": "b2880ef9",
   "metadata": {},
   "outputs": [
    {
     "data": {
      "text/plain": [
       "[0.0002142857142857224,\n",
       " 0.00054761904761913,\n",
       " 0.0024047619047620206,\n",
       " 0.00371428571428567,\n",
       " 0.003119047619047688,\n",
       " 0.0029523809523809286,\n",
       " 0.002666666666666706,\n",
       " 0.0025003571938848612,\n",
       " 0.0039999999999998925,\n",
       " 0.004857374160674333,\n",
       " 0.004119047619047578,\n",
       " 0.0055013098356753165,\n",
       " 0.006214285714285839,\n",
       " 0.0071904761904760806]"
      ]
     },
     "execution_count": 25,
     "metadata": {},
     "output_type": "execute_result"
    }
   ],
   "source": [
    "diferencias2"
   ]
  },
  {
   "cell_type": "code",
   "execution_count": 125,
   "id": "66132dfe",
   "metadata": {},
   "outputs": [
    {
     "data": {
      "image/png": "[encoded data removed]",
      "text/plain": [
       "<Figure size 1440x1440 with 1 Axes>"
      ]
     },
     "metadata": {
      "needs_background": "light"
     },
     "output_type": "display_data"
    }
   ],
   "source": [
    "plt.boxplot(resultados2)\n",
    "plt.rcParams[\"figure.figsize\"] = [20,15]\n",
    "plt.xticks(range(16),[\"\",2,3,4,5,6,7,8,9,10,11,12,13,14,15])\n",
    "plt.xlabel('Cantidad de folds', fontsize=20)\n",
    "plt.ylabel('Accuracy', fontsize=20)\n",
    "plt.savefig(\"kfold_resultados2.png\", bbox_inches='tight')"
   ]
  },
  {
   "cell_type": "code",
   "execution_count": null,
   "id": "2a045ed5",
   "metadata": {},
   "outputs": [],
   "source": []
  }
 ],
 "metadata": {
  "kernelspec": {
   "display_name": "Python 3",
   "language": "python",
   "name": "python3"
  },
  "language_info": {
   "codemirror_mode": {
    "name": "ipython",
    "version": 3
   },
   "file_extension": ".py",
   "mimetype": "text/x-python",
   "name": "python",
   "nbconvert_exporter": "python",
   "pygments_lexer": "ipython3",
   "version": "3.6.5"
  }
 },
 "nbformat": 4,
 "nbformat_minor": 5
}

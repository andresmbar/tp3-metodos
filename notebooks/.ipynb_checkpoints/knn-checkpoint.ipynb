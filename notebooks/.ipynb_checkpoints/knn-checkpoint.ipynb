{
 "cells": [
  {
   "cell_type": "markdown",
   "metadata": {},
   "source": [
    "# Reconocimiento de dígitos con KNN\n",
    "\n",
    "Veamos como interactuar con las clases implementadas en el módulo de C++ haciendo una experimentación muy simplificada, y a modo de ejemplo, del método KNN para reconocer digitos"
   ]
  },
  {
   "cell_type": "markdown",
   "metadata": {},
   "source": [
    "## Compilando el módulo desde C++\n",
    "\n",
    "Definir los path al ejecutable de python 3.6 y sus librerías,\n",
    "de acuerdo al virtual env que estén corriendo."
   ]
  },
  {
   "cell_type": "code",
   "execution_count": null,
   "metadata": {},
   "outputs": [],
   "source": [
    "!cd .. && mkdir build\n",
    "!cd ../build/ && rm -rf *\n",
    "!cd ../build && cmake \\\n",
    "  -DPYTHON_EXECUTABLE=\"$(which python)\" \\\n",
    "  -DCMAKE_BUILD_TYPE=Release ..\n",
    "!cd ../build && make install"
   ]
  },
  {
   "cell_type": "code",
   "execution_count": 4,
   "metadata": {},
   "outputs": [
    {
     "name": "stdout",
     "output_type": "stream",
     "text": [
      "/home/sebasbocaccio/Desktop/FACU/Metodos/tp2-metodos/tp2/notebooks\n",
      "Python 3.6.5 :: Anaconda, Inc.\n"
     ]
    }
   ],
   "source": [
    "# Verifico la correcta instalación. Si no falla el import está OK\n",
    "!pwd\n",
    "!python --version\n",
    "import metnum\n",
    "import numpy"
   ]
  },
  {
   "cell_type": "markdown",
   "metadata": {},
   "source": [
    "## Explorando los datos"
   ]
  },
  {
   "cell_type": "code",
   "execution_count": 5,
   "metadata": {},
   "outputs": [],
   "source": [
    "%load_ext autoreload\n",
    "%autoreload 2\n",
    "import pandas as pd\n",
    "\n",
    "df_train = pd.read_csv(\"../data/train.csv\")"
   ]
  },
  {
   "cell_type": "markdown",
   "metadata": {},
   "source": [
    "Es un csv, con columnas por cada pixel"
   ]
  },
  {
   "cell_type": "code",
   "execution_count": 3,
   "metadata": {},
   "outputs": [
    {
     "data": {
      "text/html": [
       "<div>\n",
       "<style scoped>\n",
       "    .dataframe tbody tr th:only-of-type {\n",
       "        vertical-align: middle;\n",
       "    }\n",
       "\n",
       "    .dataframe tbody tr th {\n",
       "        vertical-align: top;\n",
       "    }\n",
       "\n",
       "    .dataframe thead th {\n",
       "        text-align: right;\n",
       "    }\n",
       "</style>\n",
       "<table border=\"1\" class=\"dataframe\">\n",
       "  <thead>\n",
       "    <tr style=\"text-align: right;\">\n",
       "      <th></th>\n",
       "      <th>label</th>\n",
       "      <th>pixel0</th>\n",
       "      <th>pixel1</th>\n",
       "      <th>pixel2</th>\n",
       "      <th>pixel3</th>\n",
       "      <th>pixel4</th>\n",
       "      <th>pixel5</th>\n",
       "      <th>pixel6</th>\n",
       "      <th>pixel7</th>\n",
       "      <th>pixel8</th>\n",
       "      <th>...</th>\n",
       "      <th>pixel774</th>\n",
       "      <th>pixel775</th>\n",
       "      <th>pixel776</th>\n",
       "      <th>pixel777</th>\n",
       "      <th>pixel778</th>\n",
       "      <th>pixel779</th>\n",
       "      <th>pixel780</th>\n",
       "      <th>pixel781</th>\n",
       "      <th>pixel782</th>\n",
       "      <th>pixel783</th>\n",
       "    </tr>\n",
       "  </thead>\n",
       "  <tbody>\n",
       "    <tr>\n",
       "      <th>0</th>\n",
       "      <td>1</td>\n",
       "      <td>0</td>\n",
       "      <td>0</td>\n",
       "      <td>0</td>\n",
       "      <td>0</td>\n",
       "      <td>0</td>\n",
       "      <td>0</td>\n",
       "      <td>0</td>\n",
       "      <td>0</td>\n",
       "      <td>0</td>\n",
       "      <td>...</td>\n",
       "      <td>0</td>\n",
       "      <td>0</td>\n",
       "      <td>0</td>\n",
       "      <td>0</td>\n",
       "      <td>0</td>\n",
       "      <td>0</td>\n",
       "      <td>0</td>\n",
       "      <td>0</td>\n",
       "      <td>0</td>\n",
       "      <td>0</td>\n",
       "    </tr>\n",
       "    <tr>\n",
       "      <th>1</th>\n",
       "      <td>0</td>\n",
       "      <td>0</td>\n",
       "      <td>0</td>\n",
       "      <td>0</td>\n",
       "      <td>0</td>\n",
       "      <td>0</td>\n",
       "      <td>0</td>\n",
       "      <td>0</td>\n",
       "      <td>0</td>\n",
       "      <td>0</td>\n",
       "      <td>...</td>\n",
       "      <td>0</td>\n",
       "      <td>0</td>\n",
       "      <td>0</td>\n",
       "      <td>0</td>\n",
       "      <td>0</td>\n",
       "      <td>0</td>\n",
       "      <td>0</td>\n",
       "      <td>0</td>\n",
       "      <td>0</td>\n",
       "      <td>0</td>\n",
       "    </tr>\n",
       "    <tr>\n",
       "      <th>2</th>\n",
       "      <td>1</td>\n",
       "      <td>0</td>\n",
       "      <td>0</td>\n",
       "      <td>0</td>\n",
       "      <td>0</td>\n",
       "      <td>0</td>\n",
       "      <td>0</td>\n",
       "      <td>0</td>\n",
       "      <td>0</td>\n",
       "      <td>0</td>\n",
       "      <td>...</td>\n",
       "      <td>0</td>\n",
       "      <td>0</td>\n",
       "      <td>0</td>\n",
       "      <td>0</td>\n",
       "      <td>0</td>\n",
       "      <td>0</td>\n",
       "      <td>0</td>\n",
       "      <td>0</td>\n",
       "      <td>0</td>\n",
       "      <td>0</td>\n",
       "    </tr>\n",
       "    <tr>\n",
       "      <th>3</th>\n",
       "      <td>4</td>\n",
       "      <td>0</td>\n",
       "      <td>0</td>\n",
       "      <td>0</td>\n",
       "      <td>0</td>\n",
       "      <td>0</td>\n",
       "      <td>0</td>\n",
       "      <td>0</td>\n",
       "      <td>0</td>\n",
       "      <td>0</td>\n",
       "      <td>...</td>\n",
       "      <td>0</td>\n",
       "      <td>0</td>\n",
       "      <td>0</td>\n",
       "      <td>0</td>\n",
       "      <td>0</td>\n",
       "      <td>0</td>\n",
       "      <td>0</td>\n",
       "      <td>0</td>\n",
       "      <td>0</td>\n",
       "      <td>0</td>\n",
       "    </tr>\n",
       "    <tr>\n",
       "      <th>4</th>\n",
       "      <td>0</td>\n",
       "      <td>0</td>\n",
       "      <td>0</td>\n",
       "      <td>0</td>\n",
       "      <td>0</td>\n",
       "      <td>0</td>\n",
       "      <td>0</td>\n",
       "      <td>0</td>\n",
       "      <td>0</td>\n",
       "      <td>0</td>\n",
       "      <td>...</td>\n",
       "      <td>0</td>\n",
       "      <td>0</td>\n",
       "      <td>0</td>\n",
       "      <td>0</td>\n",
       "      <td>0</td>\n",
       "      <td>0</td>\n",
       "      <td>0</td>\n",
       "      <td>0</td>\n",
       "      <td>0</td>\n",
       "      <td>0</td>\n",
       "    </tr>\n",
       "    <tr>\n",
       "      <th>5</th>\n",
       "      <td>0</td>\n",
       "      <td>0</td>\n",
       "      <td>0</td>\n",
       "      <td>0</td>\n",
       "      <td>0</td>\n",
       "      <td>0</td>\n",
       "      <td>0</td>\n",
       "      <td>0</td>\n",
       "      <td>0</td>\n",
       "      <td>0</td>\n",
       "      <td>...</td>\n",
       "      <td>0</td>\n",
       "      <td>0</td>\n",
       "      <td>0</td>\n",
       "      <td>0</td>\n",
       "      <td>0</td>\n",
       "      <td>0</td>\n",
       "      <td>0</td>\n",
       "      <td>0</td>\n",
       "      <td>0</td>\n",
       "      <td>0</td>\n",
       "    </tr>\n",
       "    <tr>\n",
       "      <th>6</th>\n",
       "      <td>7</td>\n",
       "      <td>0</td>\n",
       "      <td>0</td>\n",
       "      <td>0</td>\n",
       "      <td>0</td>\n",
       "      <td>0</td>\n",
       "      <td>0</td>\n",
       "      <td>0</td>\n",
       "      <td>0</td>\n",
       "      <td>0</td>\n",
       "      <td>...</td>\n",
       "      <td>0</td>\n",
       "      <td>0</td>\n",
       "      <td>0</td>\n",
       "      <td>0</td>\n",
       "      <td>0</td>\n",
       "      <td>0</td>\n",
       "      <td>0</td>\n",
       "      <td>0</td>\n",
       "      <td>0</td>\n",
       "      <td>0</td>\n",
       "    </tr>\n",
       "    <tr>\n",
       "      <th>7</th>\n",
       "      <td>3</td>\n",
       "      <td>0</td>\n",
       "      <td>0</td>\n",
       "      <td>0</td>\n",
       "      <td>0</td>\n",
       "      <td>0</td>\n",
       "      <td>0</td>\n",
       "      <td>0</td>\n",
       "      <td>0</td>\n",
       "      <td>0</td>\n",
       "      <td>...</td>\n",
       "      <td>0</td>\n",
       "      <td>0</td>\n",
       "      <td>0</td>\n",
       "      <td>0</td>\n",
       "      <td>0</td>\n",
       "      <td>0</td>\n",
       "      <td>0</td>\n",
       "      <td>0</td>\n",
       "      <td>0</td>\n",
       "      <td>0</td>\n",
       "    </tr>\n",
       "    <tr>\n",
       "      <th>8</th>\n",
       "      <td>5</td>\n",
       "      <td>0</td>\n",
       "      <td>0</td>\n",
       "      <td>0</td>\n",
       "      <td>0</td>\n",
       "      <td>0</td>\n",
       "      <td>0</td>\n",
       "      <td>0</td>\n",
       "      <td>0</td>\n",
       "      <td>0</td>\n",
       "      <td>...</td>\n",
       "      <td>0</td>\n",
       "      <td>0</td>\n",
       "      <td>0</td>\n",
       "      <td>0</td>\n",
       "      <td>0</td>\n",
       "      <td>0</td>\n",
       "      <td>0</td>\n",
       "      <td>0</td>\n",
       "      <td>0</td>\n",
       "      <td>0</td>\n",
       "    </tr>\n",
       "    <tr>\n",
       "      <th>9</th>\n",
       "      <td>3</td>\n",
       "      <td>0</td>\n",
       "      <td>0</td>\n",
       "      <td>0</td>\n",
       "      <td>0</td>\n",
       "      <td>0</td>\n",
       "      <td>0</td>\n",
       "      <td>0</td>\n",
       "      <td>0</td>\n",
       "      <td>0</td>\n",
       "      <td>...</td>\n",
       "      <td>0</td>\n",
       "      <td>0</td>\n",
       "      <td>0</td>\n",
       "      <td>0</td>\n",
       "      <td>0</td>\n",
       "      <td>0</td>\n",
       "      <td>0</td>\n",
       "      <td>0</td>\n",
       "      <td>0</td>\n",
       "      <td>0</td>\n",
       "    </tr>\n",
       "  </tbody>\n",
       "</table>\n",
       "<p>10 rows × 785 columns</p>\n",
       "</div>"
      ],
      "text/plain": [
       "   label  pixel0  pixel1  pixel2  pixel3  pixel4  pixel5  pixel6  pixel7  \\\n",
       "0      1       0       0       0       0       0       0       0       0   \n",
       "1      0       0       0       0       0       0       0       0       0   \n",
       "2      1       0       0       0       0       0       0       0       0   \n",
       "3      4       0       0       0       0       0       0       0       0   \n",
       "4      0       0       0       0       0       0       0       0       0   \n",
       "5      0       0       0       0       0       0       0       0       0   \n",
       "6      7       0       0       0       0       0       0       0       0   \n",
       "7      3       0       0       0       0       0       0       0       0   \n",
       "8      5       0       0       0       0       0       0       0       0   \n",
       "9      3       0       0       0       0       0       0       0       0   \n",
       "\n",
       "   pixel8  ...  pixel774  pixel775  pixel776  pixel777  pixel778  pixel779  \\\n",
       "0       0  ...         0         0         0         0         0         0   \n",
       "1       0  ...         0         0         0         0         0         0   \n",
       "2       0  ...         0         0         0         0         0         0   \n",
       "3       0  ...         0         0         0         0         0         0   \n",
       "4       0  ...         0         0         0         0         0         0   \n",
       "5       0  ...         0         0         0         0         0         0   \n",
       "6       0  ...         0         0         0         0         0         0   \n",
       "7       0  ...         0         0         0         0         0         0   \n",
       "8       0  ...         0         0         0         0         0         0   \n",
       "9       0  ...         0         0         0         0         0         0   \n",
       "\n",
       "   pixel780  pixel781  pixel782  pixel783  \n",
       "0         0         0         0         0  \n",
       "1         0         0         0         0  \n",
       "2         0         0         0         0  \n",
       "3         0         0         0         0  \n",
       "4         0         0         0         0  \n",
       "5         0         0         0         0  \n",
       "6         0         0         0         0  \n",
       "7         0         0         0         0  \n",
       "8         0         0         0         0  \n",
       "9         0         0         0         0  \n",
       "\n",
       "[10 rows x 785 columns]"
      ]
     },
     "execution_count": 3,
     "metadata": {},
     "output_type": "execute_result"
    }
   ],
   "source": [
    "df_train[:10]"
   ]
  },
  {
   "cell_type": "markdown",
   "metadata": {},
   "source": [
    "### Reducir el dataset\n",
    "\n",
    "Ya que el dataset es grande, me quedo con una porción de éste\n",
    "\n",
    "**<font color=red>ESTO ES SOLO PARA HACER PRUEBAS. CUANDO REPORTEN LOS RESULTADOS, USAR DATASET COMPLETO</font>**"
   ]
  },
  {
   "cell_type": "code",
   "execution_count": 5,
   "metadata": {},
   "outputs": [],
   "source": [
    "df_train = df_train[:5000]"
   ]
  },
  {
   "cell_type": "markdown",
   "metadata": {},
   "source": [
    "En el primer caracter está el dígito a reconocer. Llamamos a esto `y_train`"
   ]
  },
  {
   "cell_type": "code",
   "execution_count": 4,
   "metadata": {},
   "outputs": [
    {
     "data": {
      "text/plain": [
       "((42000, 784), (42000, 1))"
      ]
     },
     "execution_count": 4,
     "metadata": {},
     "output_type": "execute_result"
    }
   ],
   "source": [
    "# Uso values para mandar todo a arrays de numpy\n",
    "X = df_train[df_train.columns[1:]].values\n",
    "y = df_train[\"label\"].values.reshape(-1, 1)\n",
    "\n",
    "X.shape, y.shape"
   ]
  },
  {
   "cell_type": "markdown",
   "metadata": {},
   "source": [
    "Convierto el resto a matrices de 28 x 28"
   ]
  },
  {
   "cell_type": "markdown",
   "metadata": {},
   "source": [
    "A ver cómo se ven..."
   ]
  },
  {
   "cell_type": "code",
   "execution_count": 7,
   "metadata": {},
   "outputs": [
    {
     "name": "stdout",
     "output_type": "stream",
     "text": [
      "Supuestamente es un 7\n"
     ]
    },
    {
     "data": {
      "text/plain": [
       "<matplotlib.image.AxesImage at 0x7fbabf71e128>"
      ]
     },
     "execution_count": 7,
     "metadata": {},
     "output_type": "execute_result"
    },
    {
     "data": {
      "image/png": "[encoded data removed]",
      "text/plain": [
       "<Figure size 432x288 with 1 Axes>"
      ]
     },
     "metadata": {
      "needs_background": "light"
     },
     "output_type": "display_data"
    }
   ],
   "source": [
    "import matplotlib.pyplot as plt\n",
    "\n",
    "num = 1917\n",
    "\n",
    "print(f\"Supuestamente es un {int(y[num])}\")\n",
    "\n",
    "img = X[num].reshape(28, 28)\n",
    "plt.imshow(img, cmap=\"Greys\")\n"
   ]
  },
  {
   "cell_type": "markdown",
   "metadata": {},
   "source": [
    "### Balance de clases\n",
    "\n",
    "¿Tenemos la misma cantidad de cada número?"
   ]
  },
  {
   "cell_type": "code",
   "execution_count": 8,
   "metadata": {},
   "outputs": [
    {
     "data": {
      "text/plain": [
       "1    0.1116\n",
       "2    0.1090\n",
       "6    0.1032\n",
       "7    0.1012\n",
       "0    0.0988\n",
       "3    0.0960\n",
       "9    0.0956\n",
       "8    0.0954\n",
       "4    0.0954\n",
       "5    0.0938\n",
       "Name: label, dtype: float64"
      ]
     },
     "execution_count": 8,
     "metadata": {},
     "output_type": "execute_result"
    }
   ],
   "source": [
    "df_train[\"label\"].value_counts(normalize=True)"
   ]
  },
  {
   "cell_type": "markdown",
   "metadata": {},
   "source": [
    "No: tenemos más 1 que 5, pero tampoco está tan desbalanceado"
   ]
  },
  {
   "cell_type": "markdown",
   "metadata": {},
   "source": [
    "### Conjunto de development"
   ]
  },
  {
   "cell_type": "code",
   "execution_count": 6,
   "metadata": {},
   "outputs": [
    {
     "name": "stdout",
     "output_type": "stream",
     "text": [
      "[[0 0 0 ... 0 0 0]\n",
      " [0 0 0 ... 0 0 0]\n",
      " [0 0 0 ... 0 0 0]\n",
      " ...\n",
      " [0 0 0 ... 0 0 0]\n",
      " [0 0 0 ... 0 0 0]\n",
      " [0 0 0 ... 0 0 0]]\n",
      "Ahora tengo 33600 instancias de entrenamiento y 8400 de validación\n"
     ]
    }
   ],
   "source": [
    "limit = int(0.8 * X.shape[0]) \n",
    "\n",
    "X_train, y_train = X[:limit], y[:limit]\n",
    "dist = []\n",
    "print(X_train)\n",
    "for i in range(0,len(X_train),1):\n",
    "    dist.append((numpy.inner(X_train[i], X_train[i]),y_train[i][0]))\n",
    "dist.sort()\n",
    "X_val, y_val = X[limit:], y[limit:]\n",
    "\n",
    "assert len(X_train) == len(y_train)\n",
    "assert len(X_val) == len(y_val)\n",
    "\n",
    "print(f\"Ahora tengo {len(X_train)} instancias de entrenamiento y {len(X_val)} de validación\")\n"
   ]
  },
  {
   "cell_type": "code",
   "execution_count": 10,
   "metadata": {},
   "outputs": [],
   "source": [
    "from sklearn.neighbors import KNeighborsClassifier\n",
    "\n",
    "# Acá pueden cambiar el clasificador nuestro por el de sklearn!\n",
    "\n",
    "clf = metnum.KNNClassifier(1)\n",
    "#clf = KNeighborsClassifier(1)\n",
    "clf.fit(X_train, y_train)\n"
   ]
  },
  {
   "cell_type": "code",
   "execution_count": 11,
   "metadata": {},
   "outputs": [
    {
     "name": "stdout",
     "output_type": "stream",
     "text": [
      "[7. 7. 0. 8. 2. 7. 8. 0. 5. 1. 6. 9. 8. 2. 2. 8. 0. 1. 5. 4. 8. 2. 2. 9.\n",
      " 7. 9. 4. 5. 7. 2. 5. 9. 7. 6. 1. 4. 4. 0. 8. 9. 6. 8. 0. 8. 7. 5. 3. 0.\n",
      " 8. 8. 9. 4. 5. 6. 4. 5. 6. 7. 5. 6. 2. 8. 2. 7. 8. 9. 8. 6. 5. 3. 3. 2.\n",
      " 5. 9. 7. 6. 9. 2. 6. 4. 3. 6. 9. 2. 7. 3. 3. 1. 8. 5. 7. 4. 7. 7. 7. 2.\n",
      " 5. 1. 2. 3. 7. 4. 2. 6. 7. 9. 7. 9. 6. 7. 1. 0. 7. 1. 2. 2. 5. 6. 2. 5.\n",
      " 8. 7. 6. 8. 1. 8. 4. 9. 2. 4. 7. 0. 0. 7. 6. 8. 7. 0. 7. 2. 1. 1. 9. 7.\n",
      " 5. 9. 6. 0. 0. 4. 3. 5. 9. 2. 4. 4. 8. 1. 5. 0. 1. 4. 8. 0. 9. 4. 7. 6.\n",
      " 4. 2. 3. 6. 7. 6. 5. 0. 7. 2. 6. 4. 9. 8. 0. 2. 5. 8. 5. 9. 4. 5. 3. 4.\n",
      " 5. 8. 0. 1. 9. 7. 6. 0. 3. 5. 1. 0. 9. 6. 4. 9. 9. 1. 0. 9. 2. 1. 5. 9.\n",
      " 1. 2. 7. 3. 2. 8. 1. 7. 2. 8. 6. 2. 7. 5. 1. 8. 4. 8. 1. 7. 2. 1. 7. 7.\n",
      " 7. 0. 0. 9. 8. 0. 9. 1. 0. 7. 7. 6. 8. 6. 3. 0. 5. 4. 0. 6. 3. 7. 4. 7.\n",
      " 9. 3. 6. 2. 2. 8. 5. 7. 6. 2. 7. 3. 4. 6. 0. 9. 9. 4. 7. 9. 6. 0. 6. 0.\n",
      " 9. 3. 6. 8. 1. 6. 5. 5. 8. 2. 6. 0. 5. 0. 7. 0. 1. 7. 6. 4. 3. 4. 1. 4.\n",
      " 3. 1. 2. 6. 1. 8. 6. 9. 3. 6. 7. 1. 7. 8. 7. 2. 6. 8. 9. 9. 7. 6. 5. 1.\n",
      " 6. 4. 6. 1. 3. 3. 3. 5. 6. 1. 7. 3. 6. 0. 9. 5. 0. 4. 5. 2. 4. 4. 3. 7.\n",
      " 3. 4. 2. 5. 6. 4. 6. 1. 5. 1. 3. 5. 4. 4. 2. 4. 7. 3. 0. 2. 3. 1. 0. 0.\n",
      " 3. 3. 3. 6. 8. 3. 2. 8. 0. 6. 7. 9. 4. 8. 6. 2. 1. 6. 1. 7. 7. 7. 3. 5.\n",
      " 7. 1. 1. 7. 8. 6. 7. 5. 8. 2. 0. 4. 9. 4. 4. 2. 2. 4. 3. 7. 8. 0. 6. 9.\n",
      " 8. 9. 8. 9. 2. 5. 6. 4. 4. 9. 1. 1. 2. 2. 0. 1. 9. 8. 7. 2. 1. 1. 2. 5.\n",
      " 0. 5. 4. 5. 2. 9. 7. 8. 0. 6. 2. 0. 2. 9. 7. 7. 4. 0. 3. 5. 5. 7. 2. 9.\n",
      " 5. 1. 9. 5. 6. 1. 0. 7. 9. 8. 2. 2. 3. 0. 6. 6. 0. 3. 8. 0. 6. 8. 5. 9.\n",
      " 9. 1. 3. 2. 4. 2. 4. 7. 8. 5. 1. 1. 5. 7. 6. 2. 2. 5. 2. 7. 8. 4. 3. 4.\n",
      " 9. 1. 5. 1. 9. 7. 5. 2. 8. 2. 1. 7. 8. 3. 1. 6. 2. 4. 5. 8. 7. 6. 1. 6.\n",
      " 0. 1. 9. 8. 8. 2. 1. 6. 5. 4. 7. 1. 6. 1. 1. 2. 3. 3. 5. 7. 3. 4. 1. 2.\n",
      " 8. 4. 4. 1. 5. 1. 2. 2. 2. 2. 2. 9. 0. 5. 1. 3. 5. 8. 0. 4. 5. 4. 7. 6.\n",
      " 8. 5. 2. 9. 9. 4. 2. 2. 5. 6. 8. 6. 0. 2. 9. 8. 5. 2. 5. 9. 2. 5. 6. 9.\n",
      " 4. 6. 8. 9. 0. 5. 5. 8. 6. 4. 4. 0. 4. 9. 6. 5. 6. 9. 2. 2. 2. 7. 7. 3.\n",
      " 4. 8. 3. 5. 9. 8. 6. 6. 2. 6. 6. 0. 7. 4. 2. 2. 9. 5. 0. 1. 2. 3. 3. 8.\n",
      " 9. 3. 1. 1. 5. 1. 3. 8. 5. 7. 3. 0. 6. 4. 3. 5. 6. 6. 0. 4. 1. 0. 4. 4.\n",
      " 6. 1. 4. 5. 7. 6. 5. 8. 2. 1. 4. 5. 3. 9. 0. 4. 0. 8. 6. 2. 3. 6. 2. 1.\n",
      " 2. 1. 0. 4. 8. 0. 9. 5. 0. 0. 3. 7. 6. 6. 0. 4. 7. 2. 1. 8. 3. 1. 8. 2.\n",
      " 9. 1. 4. 8. 7. 8. 7. 6. 1. 5. 6. 8. 4. 4. 7. 4. 1. 0. 5. 8. 1. 0. 2. 0.\n",
      " 0. 7. 3. 5. 8. 1. 5. 9. 3. 1. 2. 7. 6. 7. 7. 8. 1. 6. 4. 8. 3. 4. 2. 8.\n",
      " 2. 1. 4. 5. 7. 5. 4. 5. 7. 9. 2. 7. 7. 3. 5. 1. 3. 6. 7. 6. 5. 6. 1. 4.\n",
      " 5. 4. 0. 5. 9. 5. 0. 9. 6. 4. 8. 6. 0. 1. 9. 5. 0. 0. 5. 1. 0. 8. 9. 4.\n",
      " 0. 8. 2. 7. 0. 4. 0. 8. 4. 0. 5. 8. 8. 2. 3. 2. 1. 9. 3. 1. 7. 2. 6. 4.\n",
      " 5. 4. 8. 1. 2. 8. 1. 9. 6. 1. 3. 9. 2. 7. 1. 1. 4. 3. 9. 1. 8. 0. 9. 4.\n",
      " 3. 4. 6. 5. 7. 5. 2. 8. 1. 5. 0. 1. 1. 0. 9. 2. 5. 9. 8. 7. 8. 9. 4. 9.\n",
      " 6. 3. 1. 7. 3. 2. 1. 2. 6. 5. 9. 2. 5. 8. 8. 1. 1. 5. 2. 1. 8. 4. 2. 2.\n",
      " 8. 8. 5. 4. 8. 4. 6. 2. 7. 0. 5. 7. 2. 6. 9. 8. 3. 4. 5. 3. 2. 6. 0. 2.\n",
      " 3. 5. 2. 9. 5. 6. 0. 1. 5. 2. 6. 1. 0. 7. 7. 8. 5. 9. 6. 4. 9. 3. 6. 2.\n",
      " 9. 1. 2. 0. 8. 4. 7. 3. 2. 6. 3. 8. 1. 6. 7. 3.]\n",
      "[7874709, 5522033, 6488421, 7229793, 6117021, 3238938, 7941173, 8950694, 3170297, 2345293, 6326104, 5720408, 5813832, 8631021, 8948270, 8316671, 11916555, 2586279, 6358034, 6570916, 5356238, 6835723, 5708771, 3521771, 2756938, 2917376, 5349461, 4423365, 5892449, 6895373, 4338840, 4818382, 5436111, 7024861, 1925861, 8205484, 5738915, 10446321, 6444923, 5653872, 10639658, 7648898, 7449316, 4638515, 5013712, 4766723, 5291854, 4968972, 4632189, 6675782, 6639317, 2575995, 5904031, 8578637, 4553601, 3449206, 5342621, 6359695, 7742876, 6393167, 6025307, 3541967, 11502039, 2758311, 5472757, 4853558, 5981309, 8287037, 4325398, 2402498, 6623247, 4475307, 4440233, 3437915, 3635752, 6493132, 2389435, 7149960, 7380366, 4505354, 5569777, 4867340, 4050762, 9649057, 3692477, 7792145, 2165553, 3753342, 5166936, 5627535, 4504329, 6761446, 3700738, 5815701, 3465204, 10178446, 4779418, 4495242, 5429589, 5510369, 4712960, 5772244, 6511697, 9658361, 5962846, 6023786, 3882097, 4500016, 7635368, 5790612, 1716757, 7348353, 5058883, 5705555, 6258594, 8329017, 6965985, 8979809, 7818193, 6697452, 5932822, 6104463, 4367021, 3893987, 4743412, 7645760, 7501666, 3996974, 7342452, 4802428, 4388125, 8824999, 8584144, 5463800, 6436010, 6038618, 7267366, 6810168, 3980530, 4587858, 3151374, 3143611, 6753832, 1977715, 7948017, 3715556, 6961023, 7608955, 7251371, 4554368, 6112882, 4655973, 6266169, 7633625, 6304201, 7344799, 6486833, 2677934, 5135262, 9004559, 5075106, 4801900, 8556811, 7761569, 12243796, 3592088, 6165210, 9412952, 8300820, 3206855, 7094575, 6065798, 3344820, 5939170, 4185186, 10203657, 4319696, 9916860, 6005544, 4045448, 4128132, 4375767, 9110662, 6955246, 5678845, 4029133, 8797397, 4499714, 5622994, 6009031, 9300299, 6351434, 5035293, 4755960, 10270067, 2743484, 2890149, 6920199, 5957456, 7731923, 5197198, 5660478, 3958092, 6566744, 2691016, 4886376, 4487180, 7340456, 4499992, 6262019, 6292317, 6462186, 3050549, 4481244, 3357215, 5052428, 2171299, 9759369, 4060121, 5375090, 4532021, 7839720, 4877785, 3993473, 5147663, 7346141, 5199234, 6995318, 11713495, 3822964, 1946174, 7665234, 5498880, 3349749, 3542188, 5515885, 5575737, 5385136, 5421475, 6954079, 4485902, 4921736, 6110388, 2696587, 9493431, 10215197, 2632772, 2997940, 8158486, 6105510, 6247694, 7205078, 6783175, 5093682, 7296275, 7349615, 4667421, 5492862, 7450767, 3689125, 2400646, 8183212, 4621203, 3581850, 2393232, 2966009, 9473465, 4828313, 5221374, 6452256, 8252181, 5614185, 9842232, 9052485, 5750225, 4787916, 8924307, 3423273, 5549043, 5654462, 7107214, 4930567, 5550403, 7067363, 5476171, 11028694, 4156095, 8403977, 4493904, 7018470, 4298953, 5012396, 2328104, 8876835, 2954885, 3648589, 5834999, 8898745, 10627872, 8881399, 6828262, 5607506, 4058663, 7207071, 4927065, 7434972, 3226602, 4416727, 5571176, 7838424, 2381882, 6474884, 4662367, 5316324, 9087718, 4862235, 2442905, 6355174, 5714586, 3471411, 6284542, 6948559, 5348775, 2102957, 6361357, 8768558, 5005967, 8477632, 4044278, 7353441, 2644869, 4224657, 5436330, 5598763, 6004528, 4115349, 5071043, 5318749, 6473198, 3379323, 4765006, 4629228, 3816057, 4574552, 10665541, 3328623, 5344299, 3762249, 4448902, 3850603, 4869455, 4014310, 7270865, 5736536, 5355421, 10620675, 10495823, 4622444, 8737164, 7720765, 4117605, 5783230, 5298207, 3365652, 8170184, 1688185, 7313749, 2263509, 3818468, 4011987, 7064108, 7939367, 5687982, 5337060, 9153927, 4103918, 6603011, 6585545, 6385932, 4301607, 6490052, 4758728, 10250841, 4848889, 6633497, 5236497, 6343713, 7412997, 7613338, 6537349, 9328327, 7572244, 7815433, 7810458, 2335026, 4083560, 7838979, 6501010, 4426609, 3266100, 4849818, 6505845, 3211880, 3452688, 5551076, 3690940, 8004766, 7730001, 3836171, 3544357, 3755828, 3701064, 3540663, 8186206, 6594680, 6845013, 7191538, 5293023, 7780761, 5537500, 5952916, 9405492, 5492535, 3988031, 5064565, 2588175, 6833487, 5159113, 7532746, 5553691, 5942330, 6353717, 11590410, 6657205, 7525186, 3645115, 7114594, 6213467, 5476844, 1988101, 2837440, 5157703, 4926895, 3852184, 4475430, 5360899, 8951727, 4320774, 3938713, 6522218, 3991670, 3613795, 3542777, 2795015, 8395764, 4217731, 6073693, 5208237, 2832859, 6239612, 10288058, 7830094, 6136556, 5328983, 9080973, 7804096, 4547587, 6530249, 6663533, 6082455, 9460623, 5577818, 5554951, 3337011, 7793120, 3671828, 4180628, 5551216, 4864169, 7504485, 8414349, 3765049, 4786161, 4908209, 4978013, 1606135, 9728341, 5568231, 5596133, 7230639, 4934570, 8012933, 6366145, 7761973, 10766478, 4433675, 8031272, 8491199, 6485891, 5480245, 5677988, 7610945, 3900917, 6659575, 3781825, 4927957, 6041419, 2963206, 4612877, 4641475, 4215489, 5172682, 6898778, 4024574, 3598809, 2985948, 4598857, 3821792, 6130267, 5138621, 6624011, 5061534, 9328236, 2767430, 6898429, 6685576, 9453195, 5689320, 7977006, 2814713, 5948418, 2735597, 3360378, 5421114, 7562894, 6131987, 8422749, 9328616, 2109496, 9464709, 5695660, 3655034, 5120449, 9439376, 4722051, 6818179, 5208344, 8935432, 6174861, 5472032, 2658456, 11152770, 5176097, 2746064, 4327425, 5078556, 3029591, 7114486, 3412596, 7308828, 3175818, 4931021, 8887407, 4583939, 11141332, 2444183, 4154223, 5253062, 5675325, 8711598, 7880802, 5585330, 5190182, 6175437, 1599392, 9955989, 3892072, 4392940, 3007290, 3755550, 3630393, 4747889, 4745531, 5528388, 5693004, 9240191, 8325706, 4051256, 6550546, 4677511, 2920796, 3816939, 5661139, 9628259, 5914374, 4920166, 3697038, 5497373, 5053887, 5901299, 5670069, 7473900, 6258622, 4327150, 5608312, 5658353, 6363006, 4602324, 6843081, 6516167, 4347868, 8614200, 6687591, 8503387, 3731841, 4751082, 5092161, 11335485, 5923095, 4348421, 4938631, 4186748, 3723997, 3439150, 4038804, 2783362, 6191473, 7340434, 4329135, 6244315, 3729074, 6452334, 8865325, 3062443, 5744118, 8757829, 6763913, 5731616, 6551683, 3509934, 4649437, 4125768, 5232341, 7159015, 7409963, 5418920, 4165492, 9453023, 5347635, 5835382, 9307802, 7953736, 4636847, 6840583, 6656171, 6250067, 4335329, 6078360, 8861716, 7315749, 3948657, 5773155, 7103490, 4087283, 3360682, 3433745, 4881445, 2001759, 6742602, 7016301, 6471053, 6420485, 7168543, 6584536, 2931257, 3649675, 6841379, 4469794, 3759687, 3538015, 5102097, 6454677, 7688235, 10215083, 5153951, 4281600, 7016135, 3362027, 5995164, 4364342, 6650306, 4215057, 3292350, 5848874, 5734812, 5658620, 5501390, 4996854, 5688508, 3898943, 4541819, 6441380, 5032930, 10887010, 5818218, 5075585, 2811732, 4767894, 6401429, 2894126, 5407032, 6618330, 5927382, 7615695, 6555228, 6821082, 5291862, 5996888, 8728028, 3398017, 3494174, 2322635, 10793119, 6938093, 6002054, 5171147, 2840614, 5062330, 7643713, 13988681, 3944745, 5587321, 4530713, 5517241, 10167653, 5457540, 4573321, 7735670, 2583225, 6983066, 6114063, 2009209, 5444609, 6440097, 4981530, 2931489, 6503018, 4859680, 3777337, 4825047, 3474585, 4739784, 3288928, 5249220, 8288679, 6769380, 7624960, 4730601, 8585987, 6778784, 3077157, 14168988, 3786710, 4468933, 4011553, 7026789, 6823302, 10152341, 6370950, 7238498, 7792583, 4286754, 6614225, 2735543, 4843187, 5156855, 5893032, 4010293, 8013447, 4713783, 6637138, 6400791, 5217733, 5488144, 3150958, 7700743, 3097209, 2540460, 7113578, 5499286, 10622752, 6916097, 10529574, 2345490, 4419011, 4024250, 5142747, 5249136, 6068035, 6244735, 5615507, 3571773, 4516167, 3908189, 4550793, 4870289, 3490531, 3178581, 9312186, 8616010, 6138211, 2601687, 7743538, 5501867, 4147801, 7127696, 8791935, 3012477, 5364262, 4385465, 4306309, 3390941, 6348525, 3934802, 7825064, 5235063, 5174326, 5500940, 6686956, 3584742, 6867091, 4061958, 7781047, 9272313, 5164234, 2022682, 8663475, 7187835, 5671230, 7066448, 3295508, 7407412, 6725679, 6719944, 10483621, 5519349, 5403907, 6739788, 4801171, 8342350, 7708066, 6111159, 7299052, 6287397, 4816480, 9239951, 3849070, 6052730, 4933836, 4316811, 5465607, 5651406, 6581676, 5312530, 3697899, 8084678, 9573711, 5630807, 5430363, 8102658, 4289346, 5202923, 4545758, 2808952, 7593328, 4120596, 4172084, 5587847, 1959323, 1952098, 3426867, 7110682, 6679803, 2648211, 3890107, 9849854, 4723486, 5991307, 7687945, 5129779, 4953540, 8804147, 5099540, 7242151, 5528904, 8638469, 3838853, 6179473, 6332320, 2454558, 10422408, 7775466, 5731255, 7259796, 4458397, 4355680, 5841961, 5762050, 6869802, 5777707, 4994459, 2516558, 5873811, 9106070, 2885539, 5614194, 5494249, 8362678, 4877215, 3961889, 6249963, 4483350, 4501118, 9818433, 4972206, 6770020, 4824634, 2679129, 3378392, 6180422, 3384004, 2140746, 5670697, 5783369, 5429568, 6954733, 5799883, 6923501, 4304419, 9125923, 5327663, 4628535, 7964281, 4370755, 4519080, 7322100, 4842398, 2934821, 5126438, 6701984, 4059608, 6982894, 4147580, 3592534, 4575406, 7304844, 6835938, 7419218, 6218754, 4979820, 7110542, 4397165, 7036709, 5021081, 6827241, 7639774, 4968644, 4927362, 4069853, 11237467, 6319818, 2014425, 7787575, 5060676, 3825896, 5716464, 5035417, 6060893, 3631995, 5319886, 2697567, 5377022, 7379244, 7159901, 5133243, 5003230, 6644066, 9207692, 9290287, 5587093, 3162567, 3815806, 6471766, 8162397, 8487903, 8546763, 2482241, 7311993, 3834414, 5637474]\n",
      "Accuracy: 0.139\n",
      "CPU times: user 91.6 ms, sys: 125 ms, total: 217 ms\n",
      "Wall time: 278 ms\n"
     ]
    }
   ],
   "source": [
    "%%time\n",
    "from sklearn.metrics import accuracy_score\n",
    "y_pred = clf.predict(X_val)\n",
    "print(y_pred)\n",
    "dist = []\n",
    "\n",
    "for i in range(0,len(X_val),1):\n",
    "    dist.append((numpy.inner(X_val[i], X_val[i])))\n",
    "print(dist)\n",
    "acc = accuracy_score(y_val, y_pred)\n",
    "print(\"Accuracy: {}\".format(acc))\n"
   ]
  },
  {
   "cell_type": "markdown",
   "metadata": {},
   "source": [
    "# Testeo"
   ]
  },
  {
   "cell_type": "code",
   "execution_count": 23,
   "metadata": {},
   "outputs": [
    {
     "data": {
      "text/plain": [
       "((6, 2), (6, 1))"
      ]
     },
     "execution_count": 23,
     "metadata": {},
     "output_type": "execute_result"
    }
   ],
   "source": [
    "df_train = pd.read_csv(\"../data/custom_test.csv\")\n",
    "\n",
    "\n",
    "\n",
    "# Uso values para mandar todo a arrays de numpy\n",
    "X = df_train[df_train.columns[1:]].values\n",
    "y = df_train[\"label\"].values.reshape(-1, 1)\n",
    "\n",
    "X.shape, y.shape\n",
    "\n",
    "\n"
   ]
  },
  {
   "cell_type": "code",
   "execution_count": 26,
   "metadata": {},
   "outputs": [
    {
     "name": "stdout",
     "output_type": "stream",
     "text": [
      "[[ 0  1]\n",
      " [ 0 10]\n",
      " [ 0  5]]\n"
     ]
    }
   ],
   "source": [
    "x_train = X[:3]\n",
    "y_train = y[:3]\n",
    "x_test = X[4:]\n",
    "y_test = y[4:]\n",
    "clf = metnum.KNNClassifier(1)\n",
    "#clf = KNeighborsClassifier(1)\n",
    "clf.fit(x_train, y_train)"
   ]
  },
  {
   "cell_type": "code",
   "execution_count": null,
   "metadata": {},
   "outputs": [],
   "source": []
  }
 ],
 "metadata": {
  "kernelspec": {
   "display_name": "tp2",
   "language": "python",
   "name": "tp2"
  },
  "language_info": {
   "codemirror_mode": {
    "name": "ipython",
    "version": 3
   },
   "file_extension": ".py",
   "mimetype": "text/x-python",
   "name": "python",
   "nbconvert_exporter": "python",
   "pygments_lexer": "ipython3",
   "version": "3.6.5"
  }
 },
 "nbformat": 4,
 "nbformat_minor": 2
}

{
 "cells": [
  {
   "cell_type": "markdown",
   "id": "c66d1214-3cb5-4d31-9586-5a9ff5403f90",
   "metadata": {},
   "source": [
    "# Experimentacion - VIRUS"
   ]
  },
  {
   "cell_type": "code",
   "execution_count": 1,
   "id": "8655b35b-e9e6-4982-abc8-a4b44e683b5b",
   "metadata": {},
   "outputs": [],
   "source": [
    "import pandas as pd\n",
    "import matplotlib.pyplot as plt\n",
    "import numpy as np\n",
    "import statsmodels.api as sm\n",
    "import statsmodels.formula.api as smf\n",
    "import pandas as pd\n",
    "import seaborn as sns\n",
    "import numpy as np\n",
    "from sklearn.metrics import r2_score, mean_squared_error\n",
    "import matplotlib.pyplot as plt\n",
    "from statsmodels.stats.outliers_influence import variance_inflation_factor\n",
    "from sklearn.linear_model import LinearRegression\n",
    "import statsmodels.api as sm\n",
    "\n",
    "\n",
    "def rmse(fitted, target):\n",
    "    rmse = np.sqrt(mean_squared_error(target, fitted))\n",
    "    return rmse\n",
    "\n",
    "def adjusted_r2(p, fitted, target):\n",
    "    n=len(target)\n",
    "    return 1 - (1-r2_score(target, fitted)) * (n-1) / (n-p-1)\n",
    "\n",
    "def standarized_residual_plot(predicted, actual):\n",
    "    residuals = actual - predicted\n",
    "    standarized_residuals = residuals/np.std(residuals)\n",
    "    plt.scatter(predicted, standarized_residuals)\n",
    "    plt.xlabel(\"Predicciones\")\n",
    "    plt.ylabel(\"Residuos standarizados\")\n",
    "    plt.hlines(0, xmin=min(predicted), xmax=max(predicted))\n",
    "    plt.title(\"Residuos standarizados\")\n",
    "    return standarized_residuals\n",
    "\n",
    "def ols_influence(lm):\n",
    "    plt.figure(figsize=(30,30))\n",
    "    sm.graphics.influence_plot(lm, alpha  = 0.05, criterion=\"cooks\")\n",
    "    plt.show()\n",
    "\n",
    "    \n",
    "def run_analysis(predictors, dataset):\n",
    "    target = dataset['Life expectancy']\n",
    "    p=len(predictors)\n",
    "    features= dataset[predictors].to_numpy()\n",
    "    if len(predictors)>1:\n",
    "        for i in range(0, len(predictors)):\n",
    "            print(f\"VIF for {predictors[i]} {variance_inflation_factor(features, i)}\")\n",
    "\n",
    "    features = sm.add_constant(features)\n",
    "    regr = sm.OLS(target, features).fit()\n",
    "    fitted = regr.predict(features)\n",
    "    print(regr.summary())\n",
    "    standarized_residuals = standarized_residual_plot(fitted, target)\n",
    "    ols_influence(regr)\n",
    "    #sm.qqplot(regr.resid)\n",
    "    plt.figure()\n",
    "    plt.hist(regr.resid)\n",
    "    plt.show()\n",
    "    return {\n",
    "        'r2':r2_score(target, fitted),\n",
    "        'rmse':rmse(fitted, target),\n",
    "        'adjusted':adjusted_r2(p, fitted, target)\n",
    "    }\n",
    "\n",
    "# Me da los residuos estandarizados\n",
    "def residuos(predictors, dataset):\n",
    "    target = dataset['Life expectancy']\n",
    "    p=len(predictors)\n",
    "    features= dataset[predictors].to_numpy()\n",
    "    if len(predictors)>1:\n",
    "        for i in range(0, len(predictors)):\n",
    "            print(f\"VIF for {predictors[i]} {variance_inflation_factor(features, i)}\")\n",
    "\n",
    "    features = sm.add_constant(features)\n",
    "    regr = sm.OLS(target, features).fit()\n",
    "    fitted = regr.predict(features)\n",
    "    standarized_residuals = standarized_residual_plot(fitted, target)\n",
    "    return np.array(standarized_residuals)\n",
    "\n",
    "\n",
    "df = pd.read_csv(\"expectativa_de_vida.csv\")"
   ]
  },
  {
   "cell_type": "markdown",
   "id": "c0582e4f-5206-402e-b440-43fb02f61ba5",
   "metadata": {},
   "source": [
    "#### Como la cantidad de filas (paises) en el dataset no es demasiado significativa (miles y miles de elementos), no hare un train set que intente ser un fiel representante de todos los datos de la tabla. Sino que utilizare a todos los paises del dataset para realizar experimentos. \n",
    "#### En algunos casos, en vez de incluir a todos, me centrare en ciertos grupos en especifico, excluyendo a toda la muestra. Pero esto sera con la intencion de querer demostrar cierta anomalia o dato interesante que nos puedan proveer los datos. Como ejemplo, vere como segmentar y emplear regresion solo con paises encasillados en la condicion de 'Developing' y los que se encuentran en 'Developed'. Tambien habra un modelo con todos los paises, y otro donde no haya outliers. Se trataran a los outliers con suficiente detenimiento para entender su condicion, por que se salen tanto de la norma, son creibles sus datos? O simplemente estan encasillados en una categoria que no les corresponde si se la compara con el resto de su informacion?"
   ]
  },
  {
   "cell_type": "code",
   "execution_count": 2,
   "id": "f0efd6f7-2ec8-4d59-be7b-4a3cef2c216f",
   "metadata": {},
   "outputs": [
    {
     "name": "stdout",
     "output_type": "stream",
     "text": [
      "<class 'pandas.core.frame.DataFrame'>\n",
      "RangeIndex: 183 entries, 0 to 182\n",
      "Data columns (total 22 columns):\n",
      " #   Column                           Non-Null Count  Dtype  \n",
      "---  ------                           --------------  -----  \n",
      " 0   Unnamed: 0                       183 non-null    int64  \n",
      " 1   Country                          183 non-null    object \n",
      " 2   Life expectancy                  183 non-null    float64\n",
      " 3   Adult Mortality                  183 non-null    float64\n",
      " 4   infant deaths                    183 non-null    float64\n",
      " 5   Alcohol                          182 non-null    float64\n",
      " 6   percentage expenditure           183 non-null    float64\n",
      " 7   Hepatitis B                      174 non-null    float64\n",
      " 8   Measles                          183 non-null    float64\n",
      " 9   BMI                              181 non-null    float64\n",
      " 10  under-five deaths                183 non-null    float64\n",
      " 11  Polio                            183 non-null    float64\n",
      " 12  Total expenditure                181 non-null    float64\n",
      " 13  Diphtheria                       183 non-null    float64\n",
      " 14  HIV/AIDS                         183 non-null    float64\n",
      " 15  GDP                              158 non-null    float64\n",
      " 16  Population                       143 non-null    float64\n",
      " 17  thinness  1-19 years             181 non-null    float64\n",
      " 18  thinness 5-9 years               181 non-null    float64\n",
      " 19  Income composition of resources  173 non-null    float64\n",
      " 20  Schooling                        173 non-null    float64\n",
      " 21  Status                           183 non-null    object \n",
      "dtypes: float64(19), int64(1), object(2)\n",
      "memory usage: 31.6+ KB\n"
     ]
    }
   ],
   "source": [
    "df.info()"
   ]
  },
  {
   "cell_type": "markdown",
   "id": "f78f5754-3fa9-4f63-86e5-99bfd8dcc05b",
   "metadata": {},
   "source": [
    "Vemos que 'Status' es de tipo object, no float, como nos es de interes incluirlo en la experimentacion, proximamente vamos a hacer que tenga un valor numerico."
   ]
  },
  {
   "cell_type": "markdown",
   "id": "ee8ffcf7-495c-4bf1-bd40-cf96653e8131",
   "metadata": {},
   "source": [
    "### Gracias al analisis exploratorio de datos provisto en 'EDA.ipynb' se puede descartar la siguiente data:"
   ]
  },
  {
   "cell_type": "markdown",
   "id": "92870cd8-3676-490a-9871-0485f7a94840",
   "metadata": {},
   "source": [
    "#### <b>Features \n",
    " - **Hepatitis B**: Se correlaciona mucho con Polio y Diphteria\n",
    " - **Alcohol**: No parece ser un indicador que ayude a explicar la expectativa de vida\n",
    " - **GDP**: Puede ser reemplazado por Percentage Expenditure\n",
    " - **Population**: Se puede reemplazar por Infant Deaths y Under-Five Deaths\n",
    " - **Income Composition of Resources y Schooling**: Ambos correlacionan fuerte con BMI"
   ]
  },
  {
   "cell_type": "markdown",
   "id": "aa0e6861-9a1d-457a-bde2-955b2a21fa49",
   "metadata": {},
   "source": [
    "#### <b> Paises\n",
    " - **Sudan, Sudan del Sur, Corea del Norte y Somalia**: Todos ellos tienen data incompleta"
   ]
  },
  {
   "cell_type": "markdown",
   "id": "c45288e7-ce5f-420e-ab53-361f35f6c0d5",
   "metadata": {},
   "source": [
    "### Saco a los paises nombrados mas arriba del dataset"
   ]
  },
  {
   "cell_type": "code",
   "execution_count": 2,
   "id": "6fe73010-9187-4c28-8340-380d3ce3689b",
   "metadata": {},
   "outputs": [],
   "source": [
    "df_new = df.drop([150, 153, 44, 148], axis=0)"
   ]
  },
  {
   "cell_type": "code",
   "execution_count": 3,
   "id": "f871c184-8071-4140-ba8b-91e2aff90f56",
   "metadata": {},
   "outputs": [
    {
     "name": "stdout",
     "output_type": "stream",
     "text": [
      "(183, 22)\n",
      "(179, 22)\n"
     ]
    }
   ],
   "source": [
    "print(df.shape) # Con todos los paises\n",
    "print(df_new.shape) # Sin esos paises"
   ]
  },
  {
   "cell_type": "markdown",
   "id": "c1a65dff-d53d-4467-bf78-5ab0df595fc0",
   "metadata": {},
   "source": [
    "### Hago que 'Status' tenga un valor float"
   ]
  },
  {
   "cell_type": "code",
   "execution_count": 4,
   "id": "c2455ee9-e896-43dc-b249-7e1269765403",
   "metadata": {},
   "outputs": [],
   "source": [
    "df_new['Status_Float'] = df_new['Status'].apply(lambda x: 0 if x=='Developing' else 1)"
   ]
  },
  {
   "cell_type": "code",
   "execution_count": 5,
   "id": "dfd15628-94bb-4643-993d-f939256ec81c",
   "metadata": {},
   "outputs": [
    {
     "name": "stdout",
     "output_type": "stream",
     "text": [
      "<class 'pandas.core.frame.DataFrame'>\n",
      "Int64Index: 179 entries, 0 to 182\n",
      "Data columns (total 23 columns):\n",
      " #   Column                           Non-Null Count  Dtype  \n",
      "---  ------                           --------------  -----  \n",
      " 0   Unnamed: 0                       179 non-null    int64  \n",
      " 1   Country                          179 non-null    object \n",
      " 2   Life expectancy                  179 non-null    float64\n",
      " 3   Adult Mortality                  179 non-null    float64\n",
      " 4   infant deaths                    179 non-null    float64\n",
      " 5   Alcohol                          179 non-null    float64\n",
      " 6   percentage expenditure           179 non-null    float64\n",
      " 7   Hepatitis B                      170 non-null    float64\n",
      " 8   Measles                          179 non-null    float64\n",
      " 9   BMI                              179 non-null    float64\n",
      " 10  under-five deaths                179 non-null    float64\n",
      " 11  Polio                            179 non-null    float64\n",
      " 12  Total expenditure                179 non-null    float64\n",
      " 13  Diphtheria                       179 non-null    float64\n",
      " 14  HIV/AIDS                         179 non-null    float64\n",
      " 15  GDP                              155 non-null    float64\n",
      " 16  Population                       141 non-null    float64\n",
      " 17  thinness  1-19 years             179 non-null    float64\n",
      " 18  thinness 5-9 years               179 non-null    float64\n",
      " 19  Income composition of resources  171 non-null    float64\n",
      " 20  Schooling                        171 non-null    float64\n",
      " 21  Status                           179 non-null    object \n",
      " 22  Status_Float                     179 non-null    int64  \n",
      "dtypes: float64(19), int64(2), object(2)\n",
      "memory usage: 33.6+ KB\n"
     ]
    }
   ],
   "source": [
    "df_new.info()"
   ]
  },
  {
   "cell_type": "markdown",
   "id": "b0b03515-6857-489c-b63d-88c498c5ee9f",
   "metadata": {},
   "source": [
    "## Busco variables para mis muestras de regresion: Empiezo con el data set que contiene a todos los paises"
   ]
  },
  {
   "cell_type": "code",
   "execution_count": 6,
   "id": "23fb342d-9c98-4869-91f9-7133a0072aa0",
   "metadata": {},
   "outputs": [
    {
     "data": {
      "text/plain": [
       "Unnamed: 0                         0.009284\n",
       "Life expectancy                    1.000000\n",
       "Adult Mortality                   -0.892716\n",
       "infant deaths                     -0.200913\n",
       "Alcohol                            0.453856\n",
       "percentage expenditure             0.523687\n",
       "Hepatitis B                        0.402502\n",
       "Measles                           -0.203355\n",
       "BMI                                0.722210\n",
       "under-five deaths                 -0.226052\n",
       "Polio                              0.668041\n",
       "Total expenditure                  0.279391\n",
       "Diphtheria                         0.658709\n",
       "HIV/AIDS                          -0.598270\n",
       "GDP                                0.609940\n",
       "Population                        -0.042260\n",
       "thinness  1-19 years              -0.523232\n",
       "thinness 5-9 years                -0.515666\n",
       "Income composition of resources    0.814026\n",
       "Schooling                          0.794511\n",
       "Status_Float                       0.500508\n",
       "Name: Life expectancy, dtype: float64"
      ]
     },
     "execution_count": 6,
     "metadata": {},
     "output_type": "execute_result"
    }
   ],
   "source": [
    "df_new.corr()['Life expectancy']"
   ]
  },
  {
   "cell_type": "markdown",
   "id": "9423b348-fd96-478b-ab2c-4286f691c27d",
   "metadata": {},
   "source": [
    "## Experimentacion 1: Modelo - Enfermedades"
   ]
  },
  {
   "cell_type": "markdown",
   "id": "23ef505d-97a9-44a2-ac35-8cf17b01657c",
   "metadata": {},
   "source": [
    "### Como el COVID fue por lejos el acontecimiento mas relevante del 2020 y el 2021, centraremos esta etapa de la investigacion en como se relaciona la expectativa de vida a comparacion con que tan propenso es contraer un virus (serio si no es tratado) en dicho pais "
   ]
  },
  {
   "cell_type": "markdown",
   "id": "eace5cf4-e436-457c-b877-c5a209028e45",
   "metadata": {},
   "source": [
    "### Vamos a unir en una sola variable todos los virus que aparecen en la tabla, para ver como se correlacionan las enfermedades con la expectativa de vida de un pais. Que paises se espera que se vean mas afectados, y si puede llegar a haber casos extremos que no preveiamos o no condicen con nuestros pensamientos previos al estudio."
   ]
  },
  {
   "cell_type": "markdown",
   "id": "49d1b667-3476-4476-a701-f4dbf505c56e",
   "metadata": {
    "tags": []
   },
   "source": [
    "### Normalizo los datos de las enfermedades ('Measles', 'HIV/AIDS', 'Polio' y 'Hepatitis B')"
   ]
  },
  {
   "cell_type": "code",
   "execution_count": 7,
   "id": "08ca2adb-09b1-4d7c-9a29-d675b058b2ac",
   "metadata": {},
   "outputs": [],
   "source": [
    "features_a_normalizar = ['Measles','HIV/AIDS', 'Polio', 'Hepatitis B', 'Life expectancy']\n",
    "for feature in features_a_normalizar:\n",
    "    df_new[f'Normalizado_{feature}'] = (df_new[feature]-np.mean(df_new[feature]))/np.std(df_new[feature])"
   ]
  },
  {
   "cell_type": "code",
   "execution_count": 8,
   "id": "5637f13c-7c33-4527-a4f1-99e227831851",
   "metadata": {},
   "outputs": [
    {
     "name": "stdout",
     "output_type": "stream",
     "text": [
      "<class 'pandas.core.frame.DataFrame'>\n",
      "Int64Index: 179 entries, 0 to 182\n",
      "Data columns (total 28 columns):\n",
      " #   Column                           Non-Null Count  Dtype  \n",
      "---  ------                           --------------  -----  \n",
      " 0   Unnamed: 0                       179 non-null    int64  \n",
      " 1   Country                          179 non-null    object \n",
      " 2   Life expectancy                  179 non-null    float64\n",
      " 3   Adult Mortality                  179 non-null    float64\n",
      " 4   infant deaths                    179 non-null    float64\n",
      " 5   Alcohol                          179 non-null    float64\n",
      " 6   percentage expenditure           179 non-null    float64\n",
      " 7   Hepatitis B                      170 non-null    float64\n",
      " 8   Measles                          179 non-null    float64\n",
      " 9   BMI                              179 non-null    float64\n",
      " 10  under-five deaths                179 non-null    float64\n",
      " 11  Polio                            179 non-null    float64\n",
      " 12  Total expenditure                179 non-null    float64\n",
      " 13  Diphtheria                       179 non-null    float64\n",
      " 14  HIV/AIDS                         179 non-null    float64\n",
      " 15  GDP                              155 non-null    float64\n",
      " 16  Population                       141 non-null    float64\n",
      " 17  thinness  1-19 years             179 non-null    float64\n",
      " 18  thinness 5-9 years               179 non-null    float64\n",
      " 19  Income composition of resources  171 non-null    float64\n",
      " 20  Schooling                        171 non-null    float64\n",
      " 21  Status                           179 non-null    object \n",
      " 22  Status_Float                     179 non-null    int64  \n",
      " 23  Normalizado_Measles              179 non-null    float64\n",
      " 24  Normalizado_HIV/AIDS             179 non-null    float64\n",
      " 25  Normalizado_Polio                179 non-null    float64\n",
      " 26  Normalizado_Hepatitis B          170 non-null    float64\n",
      " 27  Normalizado_Life expectancy      179 non-null    float64\n",
      "dtypes: float64(24), int64(2), object(2)\n",
      "memory usage: 40.6+ KB\n"
     ]
    }
   ],
   "source": [
    "df_new.info()"
   ]
  },
  {
   "cell_type": "markdown",
   "id": "dfa2d39f-da91-4da1-8b8d-dcbd32294061",
   "metadata": {},
   "source": [
    "### Me deshago de los paises que no contengan data sobre el Hepatitis B. Los busco y me armo mi modelo personalizado 'df_virus'"
   ]
  },
  {
   "cell_type": "code",
   "execution_count": 9,
   "id": "00e2edd4-e952-48e1-8eba-461acaf88d5b",
   "metadata": {},
   "outputs": [],
   "source": [
    "df_virus = df_new[(pd.notnull(df_new[\"Hepatitis B\"]))] "
   ]
  },
  {
   "cell_type": "markdown",
   "id": "592a0e39-917d-4486-b657-ce7374e6366c",
   "metadata": {},
   "source": [
    "### Armo el modelo nuevo"
   ]
  },
  {
   "cell_type": "code",
   "execution_count": 10,
   "id": "29c16c9a-b80a-4181-b5f0-fbe81caf112d",
   "metadata": {},
   "outputs": [
    {
     "name": "stdout",
     "output_type": "stream",
     "text": [
      "<class 'pandas.core.frame.DataFrame'>\n",
      "Int64Index: 170 entries, 0 to 182\n",
      "Data columns (total 28 columns):\n",
      " #   Column                           Non-Null Count  Dtype  \n",
      "---  ------                           --------------  -----  \n",
      " 0   Unnamed: 0                       170 non-null    int64  \n",
      " 1   Country                          170 non-null    object \n",
      " 2   Life expectancy                  170 non-null    float64\n",
      " 3   Adult Mortality                  170 non-null    float64\n",
      " 4   infant deaths                    170 non-null    float64\n",
      " 5   Alcohol                          170 non-null    float64\n",
      " 6   percentage expenditure           170 non-null    float64\n",
      " 7   Hepatitis B                      170 non-null    float64\n",
      " 8   Measles                          170 non-null    float64\n",
      " 9   BMI                              170 non-null    float64\n",
      " 10  under-five deaths                170 non-null    float64\n",
      " 11  Polio                            170 non-null    float64\n",
      " 12  Total expenditure                170 non-null    float64\n",
      " 13  Diphtheria                       170 non-null    float64\n",
      " 14  HIV/AIDS                         170 non-null    float64\n",
      " 15  GDP                              147 non-null    float64\n",
      " 16  Population                       133 non-null    float64\n",
      " 17  thinness  1-19 years             170 non-null    float64\n",
      " 18  thinness 5-9 years               170 non-null    float64\n",
      " 19  Income composition of resources  163 non-null    float64\n",
      " 20  Schooling                        163 non-null    float64\n",
      " 21  Status                           170 non-null    object \n",
      " 22  Status_Float                     170 non-null    int64  \n",
      " 23  Normalizado_Measles              170 non-null    float64\n",
      " 24  Normalizado_HIV/AIDS             170 non-null    float64\n",
      " 25  Normalizado_Polio                170 non-null    float64\n",
      " 26  Normalizado_Hepatitis B          170 non-null    float64\n",
      " 27  Normalizado_Life expectancy      170 non-null    float64\n",
      "dtypes: float64(24), int64(2), object(2)\n",
      "memory usage: 38.5+ KB\n"
     ]
    }
   ],
   "source": [
    "df_virus.info()"
   ]
  },
  {
   "cell_type": "code",
   "execution_count": 11,
   "id": "a4582384-646e-4b81-a5ab-2f28c4c4ede8",
   "metadata": {},
   "outputs": [
    {
     "name": "stderr",
     "output_type": "stream",
     "text": [
      "/home/oscar/anaconda3/envs/tp2/lib/python3.6/site-packages/ipykernel_launcher.py:1: SettingWithCopyWarning: \n",
      "A value is trying to be set on a copy of a slice from a DataFrame.\n",
      "Try using .loc[row_indexer,col_indexer] = value instead\n",
      "\n",
      "See the caveats in the documentation: https://pandas.pydata.org/pandas-docs/stable/user_guide/indexing.html#returning-a-view-versus-a-copy\n",
      "  \"\"\"Entry point for launching an IPython kernel.\n"
     ]
    }
   ],
   "source": [
    "df_virus['enfermedades_all'] = df_virus['Normalizado_Measles'] + df_virus['Normalizado_HIV/AIDS'] - df_virus['Normalizado_Polio'] - df_virus['Normalizado_Hepatitis B'] "
   ]
  },
  {
   "cell_type": "code",
   "execution_count": 12,
   "id": "e71ad431-0b19-4dcd-8d5b-2afcb9a1f556",
   "metadata": {},
   "outputs": [
    {
     "data": {
      "text/plain": [
       "Unnamed: 0                        -0.009464\n",
       "Life expectancy                    1.000000\n",
       "Adult Mortality                   -0.887393\n",
       "infant deaths                     -0.193155\n",
       "Alcohol                            0.415487\n",
       "percentage expenditure             0.511175\n",
       "Hepatitis B                        0.402502\n",
       "Measles                           -0.201311\n",
       "BMI                                0.724400\n",
       "under-five deaths                 -0.219068\n",
       "Polio                              0.659608\n",
       "Total expenditure                  0.230055\n",
       "Diphtheria                         0.652492\n",
       "HIV/AIDS                          -0.601532\n",
       "GDP                                0.585880\n",
       "Population                        -0.023562\n",
       "thinness  1-19 years              -0.496203\n",
       "thinness 5-9 years                -0.487267\n",
       "Income composition of resources    0.798249\n",
       "Schooling                          0.779184\n",
       "Status_Float                       0.451057\n",
       "Normalizado_Measles               -0.201311\n",
       "Normalizado_HIV/AIDS              -0.601532\n",
       "Normalizado_Polio                  0.659608\n",
       "Normalizado_Hepatitis B            0.402502\n",
       "Normalizado_Life expectancy        1.000000\n",
       "enfermedades_all                  -0.680440\n",
       "Name: Life expectancy, dtype: float64"
      ]
     },
     "execution_count": 12,
     "metadata": {},
     "output_type": "execute_result"
    }
   ],
   "source": [
    "df_virus.corr()[\"Life expectancy\"] #Vemos una correlacion aceptable entre los distintos virus que hay y la expectativa de vida"
   ]
  },
  {
   "cell_type": "markdown",
   "id": "e759e9a8-1113-48eb-946a-5fc141a7aecc",
   "metadata": {},
   "source": [
    "### Al sumar las variables vemos que a mayor incidencia de un virus, menor la expectativa de vida, por eso la correlacion es negativa"
   ]
  },
  {
   "cell_type": "markdown",
   "id": "d7f44ff6-6f00-4198-9db0-064a1ef45786",
   "metadata": {},
   "source": [
    "### Corro el analisis de regresion "
   ]
  },
  {
   "cell_type": "code",
   "execution_count": 13,
   "id": "2ada7214-0168-4cb8-ad51-52b99bb205a2",
   "metadata": {},
   "outputs": [
    {
     "name": "stdout",
     "output_type": "stream",
     "text": [
      "                            OLS Regression Results                            \n",
      "==============================================================================\n",
      "Dep. Variable:        Life expectancy   R-squared:                       0.463\n",
      "Model:                            OLS   Adj. R-squared:                  0.460\n",
      "Method:                 Least Squares   F-statistic:                     144.8\n",
      "Date:                Sat, 13 Nov 2021   Prob (F-statistic):           1.87e-24\n",
      "Time:                        02:38:22   Log-Likelihood:                -560.93\n",
      "No. Observations:                 170   AIC:                             1126.\n",
      "Df Residuals:                     168   BIC:                             1132.\n",
      "Df Model:                           1                                         \n",
      "Covariance Type:            nonrobust                                         \n",
      "==============================================================================\n",
      "                 coef    std err          t      P>|t|      [0.025      0.975]\n",
      "------------------------------------------------------------------------------\n",
      "const         69.0116      0.506    136.363      0.000      68.012      70.011\n",
      "x1            -2.1922      0.182    -12.035      0.000      -2.552      -1.833\n",
      "==============================================================================\n",
      "Omnibus:                        2.338   Durbin-Watson:                   1.974\n",
      "Prob(Omnibus):                  0.311   Jarque-Bera (JB):                2.206\n",
      "Skew:                          -0.052   Prob(JB):                        0.332\n",
      "Kurtosis:                       3.548   Cond. No.                         2.78\n",
      "==============================================================================\n",
      "\n",
      "Notes:\n",
      "[1] Standard Errors assume that the covariance matrix of the errors is correctly specified.\n"
     ]
    },
    {
     "data": {
      "image/png": "[encoded data removed]",
      "text/plain": [
       "<Figure size 432x288 with 1 Axes>"
      ]
     },
     "metadata": {
      "needs_background": "light"
     },
     "output_type": "display_data"
    },
    {
     "data": {
      "text/plain": [
       "<Figure size 2160x2160 with 0 Axes>"
      ]
     },
     "metadata": {},
     "output_type": "display_data"
    },
    {
     "data": {
      "image/png": "[encoded data removed]",
      "text/plain": [
       "<Figure size 432x288 with 1 Axes>"
      ]
     },
     "metadata": {
      "needs_background": "light"
     },
     "output_type": "display_data"
    },
    {
     "data": {
      "image/png": "[encoded data removed]",
      "text/plain": [
       "<Figure size 432x288 with 1 Axes>"
      ]
     },
     "metadata": {
      "needs_background": "light"
     },
     "output_type": "display_data"
    },
    {
     "data": {
      "text/plain": [
       "{'r2': 0.4629982712326227,\n",
       " 'rmse': 6.557675023120022,\n",
       " 'adjusted': 0.4598018323709121}"
      ]
     },
     "execution_count": 13,
     "metadata": {},
     "output_type": "execute_result"
    }
   ],
   "source": [
    "run_analysis(['enfermedades_all'], df_virus)"
   ]
  },
  {
   "cell_type": "markdown",
   "id": "85afa26a-6300-4110-b3c2-08c314db2f97",
   "metadata": {},
   "source": [
    "### Grafico con el metodo de cuadrados minimos"
   ]
  },
  {
   "cell_type": "code",
   "execution_count": 15,
   "id": "009c5ba0-89a5-4392-8555-a3890529263c",
   "metadata": {},
   "outputs": [
    {
     "data": {
      "image/png": "[encoded data removed]",
      "text/plain": [
       "<Figure size 432x288 with 1 Axes>"
      ]
     },
     "metadata": {
      "needs_background": "light"
     },
     "output_type": "display_data"
    }
   ],
   "source": [
    "fig_virus, ax_virus = plt.subplots()\n",
    "\n",
    "df_virus.plot(\n",
    "    x    = 'enfermedades_all',\n",
    "    y    = 'Normalizado_Life expectancy',\n",
    "    c    = 'firebrick',\n",
    "    kind = \"scatter\",\n",
    "    ax   = ax_virus\n",
    ")\n",
    "\n",
    "#ACA PONDRIA LA RECTA DE REGRESION CON LA FUNCION DE C++ !!!FALTA ESTO!!!\n",
    "\n",
    "ax_virus.set_title('Distribución de Life expectancy y los Virus');"
   ]
  },
  {
   "cell_type": "markdown",
   "id": "380cc3c6-83b2-4480-b860-983f27e0c44a",
   "metadata": {
    "tags": []
   },
   "source": [
    "## Busqueda de outliers"
   ]
  },
  {
   "cell_type": "markdown",
   "id": "855d905d-6947-4890-b780-c65cddd7f262",
   "metadata": {},
   "source": [
    "### Quito outliers y vuelvo a hacer el analisis para ver como cambian los datos arrojados"
   ]
  },
  {
   "cell_type": "code",
   "execution_count": 16,
   "id": "d88bb58b-b3ff-453a-b23f-128bb1c0fd63",
   "metadata": {},
   "outputs": [
    {
     "data": {
      "image/png": "[encoded data removed]",
      "text/plain": [
       "<Figure size 432x288 with 1 Axes>"
      ]
     },
     "metadata": {
      "needs_background": "light"
     },
     "output_type": "display_data"
    }
   ],
   "source": [
    "residuos_virus = residuos(['enfermedades_all'], df_virus)"
   ]
  },
  {
   "cell_type": "code",
   "execution_count": 17,
   "id": "01422266-2834-4804-9112-30d3afe7cea0",
   "metadata": {},
   "outputs": [
    {
     "name": "stderr",
     "output_type": "stream",
     "text": [
      "/home/tincho/.local/lib/python3.8/site-packages/seaborn/distributions.py:2619: FutureWarning: `distplot` is a deprecated function and will be removed in a future version. Please adapt your code to use either `displot` (a figure-level function with similar flexibility) or `histplot` (an axes-level function for histograms).\n",
      "  warnings.warn(msg, FutureWarning)\n"
     ]
    },
    {
     "data": {
      "text/plain": [
       "<AxesSubplot:ylabel='Density'>"
      ]
     },
     "execution_count": 17,
     "metadata": {},
     "output_type": "execute_result"
    },
    {
     "data": {
      "image/png": "[encoded data removed]",
      "text/plain": [
       "<Figure size 432x288 with 1 Axes>"
      ]
     },
     "metadata": {
      "needs_background": "light"
     },
     "output_type": "display_data"
    }
   ],
   "source": [
    "sns.distplot(residuos_virus)"
   ]
  },
  {
   "cell_type": "markdown",
   "id": "1c3faf93-a2a5-4517-97be-956ed42296f9",
   "metadata": {},
   "source": [
    "### Como primer medida tengo que atender los casos donde el modulo del residuo sea mayor a 2 (desviacion estandar), ellos son outliers. Tambien tengo que prestar atencion a los casos donde el diametro de la distancia de Cook es muy grande y la palanca que realiza ese punto (Leverage) es considerable.\n",
    "### Teniendo en cuenta esos 3 casos, puedo quedarme con un modelo con un ajuste muchisimo mas fiable ya que estoy dejando de lado a los casos mas extremos de la muestra, que pueden complicar la estimacion de todo el modelo"
   ]
  },
  {
   "cell_type": "code",
   "execution_count": 18,
   "id": "3ab9fc25-e65e-4c02-8473-7d9431750c7c",
   "metadata": {},
   "outputs": [],
   "source": [
    "df_virus = df_virus.assign(residuos_virus = residuos_virus)"
   ]
  },
  {
   "cell_type": "code",
   "execution_count": 19,
   "id": "18087c71-ce1c-40e2-bc4b-2ec9d534a49c",
   "metadata": {},
   "outputs": [
    {
     "data": {
      "text/html": [
       "<div>\n",
       "<style scoped>\n",
       "    .dataframe tbody tr th:only-of-type {\n",
       "        vertical-align: middle;\n",
       "    }\n",
       "\n",
       "    .dataframe tbody tr th {\n",
       "        vertical-align: top;\n",
       "    }\n",
       "\n",
       "    .dataframe thead th {\n",
       "        text-align: right;\n",
       "    }\n",
       "</style>\n",
       "<table border=\"1\" class=\"dataframe\">\n",
       "  <thead>\n",
       "    <tr style=\"text-align: right;\">\n",
       "      <th></th>\n",
       "      <th>Unnamed: 0</th>\n",
       "      <th>Country</th>\n",
       "      <th>Life expectancy</th>\n",
       "      <th>Adult Mortality</th>\n",
       "      <th>infant deaths</th>\n",
       "      <th>Alcohol</th>\n",
       "      <th>percentage expenditure</th>\n",
       "      <th>Hepatitis B</th>\n",
       "      <th>Measles</th>\n",
       "      <th>BMI</th>\n",
       "      <th>...</th>\n",
       "      <th>Schooling</th>\n",
       "      <th>Status</th>\n",
       "      <th>Status_Float</th>\n",
       "      <th>Normalizado_Measles</th>\n",
       "      <th>Normalizado_HIV/AIDS</th>\n",
       "      <th>Normalizado_Polio</th>\n",
       "      <th>Normalizado_Hepatitis B</th>\n",
       "      <th>Normalizado_Life expectancy</th>\n",
       "      <th>enfermedades_all</th>\n",
       "      <th>residuos_virus</th>\n",
       "    </tr>\n",
       "  </thead>\n",
       "  <tbody>\n",
       "    <tr>\n",
       "      <th>26</th>\n",
       "      <td>26</td>\n",
       "      <td>Burundi</td>\n",
       "      <td>55.53750</td>\n",
       "      <td>291.5625</td>\n",
       "      <td>23.2500</td>\n",
       "      <td>4.103333</td>\n",
       "      <td>15.335498</td>\n",
       "      <td>93.333333</td>\n",
       "      <td>1349.5000</td>\n",
       "      <td>15.31250</td>\n",
       "      <td>...</td>\n",
       "      <td>7.48125</td>\n",
       "      <td>Developing</td>\n",
       "      <td>0</td>\n",
       "      <td>-0.132838</td>\n",
       "      <td>0.296511</td>\n",
       "      <td>0.245277</td>\n",
       "      <td>0.838538</td>\n",
       "      <td>-1.528672</td>\n",
       "      <td>-0.920142</td>\n",
       "      <td>-2.362307</td>\n",
       "    </tr>\n",
       "    <tr>\n",
       "      <th>30</th>\n",
       "      <td>30</td>\n",
       "      <td>Canada</td>\n",
       "      <td>81.68750</td>\n",
       "      <td>64.6250</td>\n",
       "      <td>2.0000</td>\n",
       "      <td>8.053333</td>\n",
       "      <td>4694.078971</td>\n",
       "      <td>28.846154</td>\n",
       "      <td>129.5000</td>\n",
       "      <td>55.86250</td>\n",
       "      <td>...</td>\n",
       "      <td>15.87500</td>\n",
       "      <td>Developing</td>\n",
       "      <td>0</td>\n",
       "      <td>-0.282681</td>\n",
       "      <td>-0.370526</td>\n",
       "      <td>0.159540</td>\n",
       "      <td>-2.968750</td>\n",
       "      <td>1.346474</td>\n",
       "      <td>2.156003</td>\n",
       "      <td>2.653751</td>\n",
       "    </tr>\n",
       "    <tr>\n",
       "      <th>34</th>\n",
       "      <td>34</td>\n",
       "      <td>China</td>\n",
       "      <td>74.26250</td>\n",
       "      <td>73.7500</td>\n",
       "      <td>294.8750</td>\n",
       "      <td>4.182000</td>\n",
       "      <td>73.583763</td>\n",
       "      <td>80.437500</td>\n",
       "      <td>65857.9375</td>\n",
       "      <td>21.80625</td>\n",
       "      <td>...</td>\n",
       "      <td>11.43750</td>\n",
       "      <td>Developing</td>\n",
       "      <td>0</td>\n",
       "      <td>7.790238</td>\n",
       "      <td>-0.370526</td>\n",
       "      <td>0.706624</td>\n",
       "      <td>0.077175</td>\n",
       "      <td>0.530109</td>\n",
       "      <td>6.635913</td>\n",
       "      <td>3.019136</td>\n",
       "    </tr>\n",
       "    <tr>\n",
       "      <th>58</th>\n",
       "      <td>60</td>\n",
       "      <td>France</td>\n",
       "      <td>82.21875</td>\n",
       "      <td>73.1250</td>\n",
       "      <td>2.9375</td>\n",
       "      <td>12.404667</td>\n",
       "      <td>3751.506574</td>\n",
       "      <td>51.250000</td>\n",
       "      <td>2661.6250</td>\n",
       "      <td>51.98125</td>\n",
       "      <td>...</td>\n",
       "      <td>15.90000</td>\n",
       "      <td>Developing</td>\n",
       "      <td>0</td>\n",
       "      <td>0.028320</td>\n",
       "      <td>-0.370526</td>\n",
       "      <td>1.004662</td>\n",
       "      <td>-1.646039</td>\n",
       "      <td>1.404884</td>\n",
       "      <td>0.299171</td>\n",
       "      <td>2.114019</td>\n",
       "    </tr>\n",
       "    <tr>\n",
       "      <th>60</th>\n",
       "      <td>62</td>\n",
       "      <td>Gambia</td>\n",
       "      <td>59.46250</td>\n",
       "      <td>249.6250</td>\n",
       "      <td>3.0000</td>\n",
       "      <td>2.134667</td>\n",
       "      <td>0.000000</td>\n",
       "      <td>95.375000</td>\n",
       "      <td>41.2500</td>\n",
       "      <td>20.30000</td>\n",
       "      <td>...</td>\n",
       "      <td>8.12500</td>\n",
       "      <td>Developing</td>\n",
       "      <td>0</td>\n",
       "      <td>-0.293520</td>\n",
       "      <td>0.130450</td>\n",
       "      <td>0.645383</td>\n",
       "      <td>0.959077</td>\n",
       "      <td>-1.097125</td>\n",
       "      <td>-1.767531</td>\n",
       "      <td>-2.047056</td>\n",
       "    </tr>\n",
       "    <tr>\n",
       "      <th>74</th>\n",
       "      <td>76</td>\n",
       "      <td>India</td>\n",
       "      <td>65.41875</td>\n",
       "      <td>146.5625</td>\n",
       "      <td>1366.6875</td>\n",
       "      <td>1.942000</td>\n",
       "      <td>33.242621</td>\n",
       "      <td>35.000000</td>\n",
       "      <td>46454.1875</td>\n",
       "      <td>14.79375</td>\n",
       "      <td>...</td>\n",
       "      <td>9.98125</td>\n",
       "      <td>Developing</td>\n",
       "      <td>0</td>\n",
       "      <td>5.407025</td>\n",
       "      <td>-0.335639</td>\n",
       "      <td>-0.865222</td>\n",
       "      <td>-2.605430</td>\n",
       "      <td>-0.442246</td>\n",
       "      <td>8.542038</td>\n",
       "      <td>2.307749</td>\n",
       "    </tr>\n",
       "    <tr>\n",
       "      <th>143</th>\n",
       "      <td>152</td>\n",
       "      <td>Sierra Leone</td>\n",
       "      <td>46.11250</td>\n",
       "      <td>357.8125</td>\n",
       "      <td>27.5625</td>\n",
       "      <td>3.154667</td>\n",
       "      <td>29.105579</td>\n",
       "      <td>83.444444</td>\n",
       "      <td>673.8750</td>\n",
       "      <td>18.30625</td>\n",
       "      <td>...</td>\n",
       "      <td>8.23125</td>\n",
       "      <td>Developing</td>\n",
       "      <td>0</td>\n",
       "      <td>-0.215820</td>\n",
       "      <td>-0.053753</td>\n",
       "      <td>-0.726409</td>\n",
       "      <td>0.254704</td>\n",
       "      <td>-2.564934</td>\n",
       "      <td>0.202133</td>\n",
       "      <td>-3.424374</td>\n",
       "    </tr>\n",
       "  </tbody>\n",
       "</table>\n",
       "<p>7 rows × 30 columns</p>\n",
       "</div>"
      ],
      "text/plain": [
       "     Unnamed: 0       Country  Life expectancy  Adult Mortality  \\\n",
       "26           26       Burundi         55.53750         291.5625   \n",
       "30           30        Canada         81.68750          64.6250   \n",
       "34           34         China         74.26250          73.7500   \n",
       "58           60        France         82.21875          73.1250   \n",
       "60           62        Gambia         59.46250         249.6250   \n",
       "74           76         India         65.41875         146.5625   \n",
       "143         152  Sierra Leone         46.11250         357.8125   \n",
       "\n",
       "     infant deaths    Alcohol  percentage expenditure  Hepatitis B  \\\n",
       "26         23.2500   4.103333               15.335498    93.333333   \n",
       "30          2.0000   8.053333             4694.078971    28.846154   \n",
       "34        294.8750   4.182000               73.583763    80.437500   \n",
       "58          2.9375  12.404667             3751.506574    51.250000   \n",
       "60          3.0000   2.134667                0.000000    95.375000   \n",
       "74       1366.6875   1.942000               33.242621    35.000000   \n",
       "143        27.5625   3.154667               29.105579    83.444444   \n",
       "\n",
       "        Measles       BMI  ...  Schooling      Status  Status_Float  \\\n",
       "26    1349.5000  15.31250  ...    7.48125  Developing             0   \n",
       "30     129.5000  55.86250  ...   15.87500  Developing             0   \n",
       "34   65857.9375  21.80625  ...   11.43750  Developing             0   \n",
       "58    2661.6250  51.98125  ...   15.90000  Developing             0   \n",
       "60      41.2500  20.30000  ...    8.12500  Developing             0   \n",
       "74   46454.1875  14.79375  ...    9.98125  Developing             0   \n",
       "143    673.8750  18.30625  ...    8.23125  Developing             0   \n",
       "\n",
       "     Normalizado_Measles  Normalizado_HIV/AIDS  Normalizado_Polio  \\\n",
       "26             -0.132838              0.296511           0.245277   \n",
       "30             -0.282681             -0.370526           0.159540   \n",
       "34              7.790238             -0.370526           0.706624   \n",
       "58              0.028320             -0.370526           1.004662   \n",
       "60             -0.293520              0.130450           0.645383   \n",
       "74              5.407025             -0.335639          -0.865222   \n",
       "143            -0.215820             -0.053753          -0.726409   \n",
       "\n",
       "     Normalizado_Hepatitis B  Normalizado_Life expectancy  enfermedades_all  \\\n",
       "26                  0.838538                    -1.528672         -0.920142   \n",
       "30                 -2.968750                     1.346474          2.156003   \n",
       "34                  0.077175                     0.530109          6.635913   \n",
       "58                 -1.646039                     1.404884          0.299171   \n",
       "60                  0.959077                    -1.097125         -1.767531   \n",
       "74                 -2.605430                    -0.442246          8.542038   \n",
       "143                 0.254704                    -2.564934          0.202133   \n",
       "\n",
       "     residuos_virus  \n",
       "26        -2.362307  \n",
       "30         2.653751  \n",
       "34         3.019136  \n",
       "58         2.114019  \n",
       "60        -2.047056  \n",
       "74         2.307749  \n",
       "143       -3.424374  \n",
       "\n",
       "[7 rows x 30 columns]"
      ]
     },
     "execution_count": 19,
     "metadata": {},
     "output_type": "execute_result"
    }
   ],
   "source": [
    "#Busco outliers por el lado de los residuos\n",
    "df_virus[(df_virus[\"residuos_virus\"]**2)**0.5 > 2] "
   ]
  },
  {
   "cell_type": "markdown",
   "id": "58ad40a5-5ca4-45d7-86ab-7bd6edc799b3",
   "metadata": {},
   "source": [
    "### Como primer outlier destacable vemos a China, que tiene un valor normalizado de 'Measles' de 7.79, MUY por encima del resto. Nos deshacemos de el y del resto de paises en esta lista. Hay que decir que son bastante pocos, por lo que el conjunto de todos los datos no se desvia mucho de la prediccion."
   ]
  },
  {
   "cell_type": "code",
   "execution_count": 20,
   "id": "42e4c58b-e4f2-45d5-a618-e0170fe1e975",
   "metadata": {},
   "outputs": [],
   "source": [
    "df_virus_no_outliers = df_virus[(df_virus[\"residuos_virus\"]**2)**0.5 <= 2] "
   ]
  },
  {
   "cell_type": "markdown",
   "id": "19634194-b0c8-400f-93f3-1bc7f9bb9f04",
   "metadata": {},
   "source": [
    "### Ahora me encargo de la distancia de Cook y el Leverage y termino de extraer a los ultimos outliers"
   ]
  },
  {
   "cell_type": "code",
   "execution_count": 21,
   "id": "a797b5a2-5694-4742-9a65-34d6281ceeff",
   "metadata": {},
   "outputs": [],
   "source": [
    "from statsmodels.stats.outliers_influence import OLSInfluence as influence\n",
    "\n",
    "# Me da la distancia de Cook de cada pais\n",
    "def cooksDist(predictors, dataset):\n",
    "    target = dataset['Life expectancy']\n",
    "    p=len(predictors)\n",
    "    features= dataset[predictors].to_numpy()\n",
    "    if len(predictors)>1:\n",
    "        for i in range(0, len(predictors)):\n",
    "            print(f\"VIF for {predictors[i]} {variance_inflation_factor(features, i)}\")\n",
    "\n",
    "    features = sm.add_constant(features)\n",
    "    regr = sm.OLS(target, features).fit()\n",
    "    inf = influence(regr)\n",
    "    # cooks_distance is an attribute of incluence, here C, not sure about P (p-value maybe?)\n",
    "    C, P = inf.cooks_distance\n",
    "    return C, P"
   ]
  },
  {
   "cell_type": "code",
   "execution_count": 22,
   "id": "6e072b6e-5ef8-45cf-8806-d366423371d3",
   "metadata": {},
   "outputs": [],
   "source": [
    "cook_virus, p_virus = cooksDist(['enfermedades_all'], df_virus)"
   ]
  },
  {
   "cell_type": "code",
   "execution_count": 23,
   "id": "04bcd5ab-d5d2-4c73-acad-615d3b5eaf7f",
   "metadata": {},
   "outputs": [
    {
     "data": {
      "text/plain": [
       "(170,)"
      ]
     },
     "execution_count": 23,
     "metadata": {},
     "output_type": "execute_result"
    }
   ],
   "source": [
    "cook_virus.shape"
   ]
  },
  {
   "cell_type": "code",
   "execution_count": 24,
   "id": "64f0019f-22c7-43de-9c6e-0edeb543c4b7",
   "metadata": {},
   "outputs": [],
   "source": [
    "df_virus2 = df_virus.assign(cook_virus = cook_virus)"
   ]
  },
  {
   "cell_type": "markdown",
   "id": "1dfcfca9-eaba-45ac-9613-2e7bb4ac6a95",
   "metadata": {},
   "source": [
    "### Estos son los paises con mayor distancia de Cook (circulo mas grande). Los saco de la muestra. Notar que China ya habia aparecido como outlier en el test de residuos."
   ]
  },
  {
   "cell_type": "code",
   "execution_count": 25,
   "id": "8cbf0e7a-31bb-47b2-9ab2-71d8bfa65228",
   "metadata": {
    "tags": []
   },
   "outputs": [
    {
     "data": {
      "text/html": [
       "<div>\n",
       "<style scoped>\n",
       "    .dataframe tbody tr th:only-of-type {\n",
       "        vertical-align: middle;\n",
       "    }\n",
       "\n",
       "    .dataframe tbody tr th {\n",
       "        vertical-align: top;\n",
       "    }\n",
       "\n",
       "    .dataframe thead th {\n",
       "        text-align: right;\n",
       "    }\n",
       "</style>\n",
       "<table border=\"1\" class=\"dataframe\">\n",
       "  <thead>\n",
       "    <tr style=\"text-align: right;\">\n",
       "      <th></th>\n",
       "      <th>Unnamed: 0</th>\n",
       "      <th>Country</th>\n",
       "      <th>Life expectancy</th>\n",
       "      <th>Adult Mortality</th>\n",
       "      <th>infant deaths</th>\n",
       "      <th>Alcohol</th>\n",
       "      <th>percentage expenditure</th>\n",
       "      <th>Hepatitis B</th>\n",
       "      <th>Measles</th>\n",
       "      <th>BMI</th>\n",
       "      <th>...</th>\n",
       "      <th>Status</th>\n",
       "      <th>Status_Float</th>\n",
       "      <th>Normalizado_Measles</th>\n",
       "      <th>Normalizado_HIV/AIDS</th>\n",
       "      <th>Normalizado_Polio</th>\n",
       "      <th>Normalizado_Hepatitis B</th>\n",
       "      <th>Normalizado_Life expectancy</th>\n",
       "      <th>enfermedades_all</th>\n",
       "      <th>residuos_virus</th>\n",
       "      <th>cook_virus</th>\n",
       "    </tr>\n",
       "  </thead>\n",
       "  <tbody>\n",
       "    <tr>\n",
       "      <th>34</th>\n",
       "      <td>34</td>\n",
       "      <td>China</td>\n",
       "      <td>74.26250</td>\n",
       "      <td>73.7500</td>\n",
       "      <td>294.8750</td>\n",
       "      <td>4.182</td>\n",
       "      <td>73.583763</td>\n",
       "      <td>80.4375</td>\n",
       "      <td>65857.9375</td>\n",
       "      <td>21.80625</td>\n",
       "      <td>...</td>\n",
       "      <td>Developing</td>\n",
       "      <td>0</td>\n",
       "      <td>7.790238</td>\n",
       "      <td>-0.370526</td>\n",
       "      <td>0.706624</td>\n",
       "      <td>0.077175</td>\n",
       "      <td>0.530109</td>\n",
       "      <td>6.635913</td>\n",
       "      <td>3.019136</td>\n",
       "      <td>0.188995</td>\n",
       "    </tr>\n",
       "    <tr>\n",
       "      <th>74</th>\n",
       "      <td>76</td>\n",
       "      <td>India</td>\n",
       "      <td>65.41875</td>\n",
       "      <td>146.5625</td>\n",
       "      <td>1366.6875</td>\n",
       "      <td>1.942</td>\n",
       "      <td>33.242621</td>\n",
       "      <td>35.0000</td>\n",
       "      <td>46454.1875</td>\n",
       "      <td>14.79375</td>\n",
       "      <td>...</td>\n",
       "      <td>Developing</td>\n",
       "      <td>0</td>\n",
       "      <td>5.407025</td>\n",
       "      <td>-0.335639</td>\n",
       "      <td>-0.865222</td>\n",
       "      <td>-2.605430</td>\n",
       "      <td>-0.442246</td>\n",
       "      <td>8.542038</td>\n",
       "      <td>2.307749</td>\n",
       "      <td>0.180816</td>\n",
       "    </tr>\n",
       "  </tbody>\n",
       "</table>\n",
       "<p>2 rows × 31 columns</p>\n",
       "</div>"
      ],
      "text/plain": [
       "    Unnamed: 0 Country  Life expectancy  Adult Mortality  infant deaths  \\\n",
       "34          34   China         74.26250          73.7500       294.8750   \n",
       "74          76   India         65.41875         146.5625      1366.6875   \n",
       "\n",
       "    Alcohol  percentage expenditure  Hepatitis B     Measles       BMI  ...  \\\n",
       "34    4.182               73.583763      80.4375  65857.9375  21.80625  ...   \n",
       "74    1.942               33.242621      35.0000  46454.1875  14.79375  ...   \n",
       "\n",
       "        Status  Status_Float  Normalizado_Measles  Normalizado_HIV/AIDS  \\\n",
       "34  Developing             0             7.790238             -0.370526   \n",
       "74  Developing             0             5.407025             -0.335639   \n",
       "\n",
       "    Normalizado_Polio  Normalizado_Hepatitis B  Normalizado_Life expectancy  \\\n",
       "34           0.706624                 0.077175                     0.530109   \n",
       "74          -0.865222                -2.605430                    -0.442246   \n",
       "\n",
       "    enfermedades_all  residuos_virus  cook_virus  \n",
       "34          6.635913        3.019136    0.188995  \n",
       "74          8.542038        2.307749    0.180816  \n",
       "\n",
       "[2 rows x 31 columns]"
      ]
     },
     "execution_count": 25,
     "metadata": {},
     "output_type": "execute_result"
    }
   ],
   "source": [
    "df_virus2[df_virus2[\"cook_virus\"] > 0.1]"
   ]
  },
  {
   "cell_type": "code",
   "execution_count": 26,
   "id": "a8a75eda-e17c-4b3f-b7f0-74c71850fb46",
   "metadata": {},
   "outputs": [],
   "source": [
    "cook_virus_no_outliers, p_virus_no_outliers = cooksDist(['enfermedades_all'], df_virus_no_outliers)"
   ]
  },
  {
   "cell_type": "code",
   "execution_count": 27,
   "id": "204762a4-0774-4b1c-8f01-7be1940945b1",
   "metadata": {},
   "outputs": [],
   "source": [
    "df_virus_no_outliers = df_virus_no_outliers.assign(cook_virus = cook_virus_no_outliers)"
   ]
  },
  {
   "cell_type": "code",
   "execution_count": 28,
   "id": "9ece6f2f-36a1-4e71-9043-65b91dea232d",
   "metadata": {},
   "outputs": [],
   "source": [
    "df_virus_no_outliers = df_virus_no_outliers[df_virus_no_outliers[\"cook_virus\"] < 0.1]"
   ]
  },
  {
   "cell_type": "code",
   "execution_count": 29,
   "id": "cf25ab95-20da-4415-be46-b153c90e306a",
   "metadata": {},
   "outputs": [
    {
     "name": "stdout",
     "output_type": "stream",
     "text": [
      "(161, 31)\n",
      "(170, 30)\n"
     ]
    }
   ],
   "source": [
    "print(df_virus_no_outliers.shape)\n",
    "print(df_virus.shape) "
   ]
  },
  {
   "cell_type": "markdown",
   "id": "f14ff292-a894-4a72-bf22-769266e6a2fc",
   "metadata": {},
   "source": [
    "### Ya nos deshicimos de 6 outliers, ahora veamos la condicion de leverage y terminamos con la quita "
   ]
  },
  {
   "cell_type": "code",
   "execution_count": 30,
   "id": "533cd7b7-967b-4dc7-b1a1-0f0c6cdc6989",
   "metadata": {},
   "outputs": [],
   "source": [
    "# Me da el Leverage de cada pais\n",
    "def getLeverage(predictors, dataset):\n",
    "    target = dataset['Life expectancy']\n",
    "    p=len(predictors)\n",
    "    features= dataset[predictors].to_numpy()\n",
    "    if len(predictors)>1:\n",
    "        for i in range(0, len(predictors)):\n",
    "            print(f\"VIF for {predictors[i]} {variance_inflation_factor(features, i)}\")\n",
    "\n",
    "    features = sm.add_constant(features)\n",
    "    regr = sm.OLS(target, features).fit()\n",
    "    inf = influence(regr)\n",
    "    leverage = inf.hat_matrix_diag\n",
    "    return leverage"
   ]
  },
  {
   "cell_type": "code",
   "execution_count": 31,
   "id": "4ed134c8-18b8-4e3f-9052-cf4556be2d4f",
   "metadata": {},
   "outputs": [],
   "source": [
    "leverage_no_outliers = getLeverage(['enfermedades_all'], df_virus_no_outliers)"
   ]
  },
  {
   "cell_type": "code",
   "execution_count": 32,
   "id": "41da32e8-e786-4eb6-9cdc-8d20dae72ce0",
   "metadata": {},
   "outputs": [],
   "source": [
    "df_virus_no_outliers = df_virus_no_outliers.assign(leverage_virus = leverage_no_outliers)"
   ]
  },
  {
   "cell_type": "code",
   "execution_count": 33,
   "id": "54d537d3-ed9a-471e-a549-ed992db52cdc",
   "metadata": {},
   "outputs": [],
   "source": [
    "df_virus_no_outliers = df_virus_no_outliers[df_virus_no_outliers[\"leverage_virus\"] < 0.06]"
   ]
  },
  {
   "cell_type": "code",
   "execution_count": 34,
   "id": "57169b8c-a0f3-4fdd-abbe-23a497f9a89e",
   "metadata": {},
   "outputs": [
    {
     "name": "stdout",
     "output_type": "stream",
     "text": [
      "(160, 32)\n",
      "(170, 30)\n"
     ]
    }
   ],
   "source": [
    "print(df_virus_no_outliers.shape)\n",
    "print(df_virus.shape) "
   ]
  },
  {
   "cell_type": "markdown",
   "id": "6f8a6e29-8391-4744-8e59-2e49618d6c49",
   "metadata": {},
   "source": [
    "### Ya me deshice de los paises con mayor Leverage. Por lo tanto termine de eliminar los maximos outliers de la muestra. Ahora realizo el analisis de regresion sin outliers en mi modelo"
   ]
  },
  {
   "cell_type": "markdown",
   "id": "949282cf-4766-4f99-86de-63dba87f8d16",
   "metadata": {},
   "source": [
    "## Analisis sin outliers"
   ]
  },
  {
   "cell_type": "code",
   "execution_count": 35,
   "id": "0e9e14c4-c59a-4846-a4f6-7d1f253a6d93",
   "metadata": {},
   "outputs": [
    {
     "name": "stdout",
     "output_type": "stream",
     "text": [
      "                            OLS Regression Results                            \n",
      "==============================================================================\n",
      "Dep. Variable:        Life expectancy   R-squared:                       0.587\n",
      "Model:                            OLS   Adj. R-squared:                  0.585\n",
      "Method:                 Least Squares   F-statistic:                     224.8\n",
      "Date:                Wed, 10 Nov 2021   Prob (F-statistic):           3.61e-32\n",
      "Time:                        23:46:07   Log-Likelihood:                -500.02\n",
      "No. Observations:                 160   AIC:                             1004.\n",
      "Df Residuals:                     158   BIC:                             1010.\n",
      "Df Model:                           1                                         \n",
      "Covariance Type:            nonrobust                                         \n",
      "==============================================================================\n",
      "                 coef    std err          t      P>|t|      [0.025      0.975]\n",
      "------------------------------------------------------------------------------\n",
      "const         68.6955      0.440    156.224      0.000      67.827      69.564\n",
      "x1            -2.7637      0.184    -14.992      0.000      -3.128      -2.400\n",
      "==============================================================================\n",
      "Omnibus:                        1.250   Durbin-Watson:                   1.848\n",
      "Prob(Omnibus):                  0.535   Jarque-Bera (JB):                1.142\n",
      "Skew:                           0.028   Prob(JB):                        0.565\n",
      "Kurtosis:                       2.590   Cond. No.                         2.40\n",
      "==============================================================================\n",
      "\n",
      "Notes:\n",
      "[1] Standard Errors assume that the covariance matrix of the errors is correctly specified.\n"
     ]
    },
    {
     "data": {
      "image/png": "[encoded data removed]",
      "text/plain": [
       "<Figure size 432x288 with 1 Axes>"
      ]
     },
     "metadata": {
      "needs_background": "light"
     },
     "output_type": "display_data"
    },
    {
     "data": {
      "text/plain": [
       "<Figure size 2160x2160 with 0 Axes>"
      ]
     },
     "metadata": {},
     "output_type": "display_data"
    },
    {
     "data": {
      "image/png": "[encoded data removed]",
      "text/plain": [
       "<Figure size 432x288 with 1 Axes>"
      ]
     },
     "metadata": {
      "needs_background": "light"
     },
     "output_type": "display_data"
    },
    {
     "data": {
      "image/png": "[encoded data removed]",
      "text/plain": [
       "<Figure size 432x288 with 1 Axes>"
      ]
     },
     "metadata": {
      "needs_background": "light"
     },
     "output_type": "display_data"
    },
    {
     "data": {
      "text/plain": [
       "{'r2': 0.5872142489307659,\n",
       " 'rmse': 5.507911265727309,\n",
       " 'adjusted': 0.5846016808860239}"
      ]
     },
     "execution_count": 35,
     "metadata": {},
     "output_type": "execute_result"
    }
   ],
   "source": [
    "run_analysis(['enfermedades_all'], df_virus_no_outliers)"
   ]
  },
  {
   "cell_type": "code",
   "execution_count": 36,
   "id": "834302d1-fe52-4960-a65a-a43e4c56a60c",
   "metadata": {},
   "outputs": [
    {
     "data": {
      "image/png": "[encoded data removed]",
      "text/plain": [
       "<Figure size 432x288 with 1 Axes>"
      ]
     },
     "metadata": {
      "needs_background": "light"
     },
     "output_type": "display_data"
    }
   ],
   "source": [
    "fig_virus_no, ax_virus_no = plt.subplots()\n",
    "\n",
    "df_virus_no_outliers.plot(\n",
    "    x    = 'enfermedades_all',\n",
    "    y    = 'Normalizado_Life expectancy',\n",
    "    c    = 'firebrick',\n",
    "    kind = \"scatter\",\n",
    "    ax   = ax_virus_no\n",
    ")\n",
    "\n",
    "#ACA PONDRIA LA RECTA DE REGRESION CON LA FUNCION DE C++ !!!FALTA ESTO!!! (RECTA CON OUTLIERS)\n",
    "#ACA PONDRIA LA RECTA DE REGRESION CON LA FUNCION DE C++ !!!FALTA ESTO!!! (RECTA SIN OUTLIERS)\n",
    "\n",
    "ax_virus_no.set_title('Distribución de Life expectancy y los Virus');"
   ]
  },
  {
   "cell_type": "markdown",
   "id": "8b94e843-2005-4c1d-a77f-fd61d27bcb2f",
   "metadata": {},
   "source": [
    "### Notamos como el ajuste dio muchisimo mejor. Esto demuestra que, quitando los outliers correctos, la regresion puede mejorar considerablemente"
   ]
  },
  {
   "cell_type": "markdown",
   "id": "8c20b95c-0249-4dd5-9198-dff3123bb78b",
   "metadata": {},
   "source": [
    "## Analisis con status de los paises"
   ]
  },
  {
   "cell_type": "markdown",
   "id": "fd4a931b-64f7-4740-8bb1-7c3c251a3dc2",
   "metadata": {},
   "source": [
    "### Hago una distincion entre el tipo de pais para ver como difiere la incidencia de la enfermedad con la expectativa de vida entre un pais desarrollado y otro en vias de desarrollo"
   ]
  },
  {
   "cell_type": "code",
   "execution_count": 37,
   "id": "e369fe16-ecba-4075-a4fc-80efa69c3988",
   "metadata": {},
   "outputs": [
    {
     "name": "stdout",
     "output_type": "stream",
     "text": [
      "VIF for enfermedades_all 1.088617467354242\n",
      "VIF for Status_Float 1.088617467354242\n",
      "                            OLS Regression Results                            \n",
      "==============================================================================\n",
      "Dep. Variable:        Life expectancy   R-squared:                       0.659\n",
      "Model:                            OLS   Adj. R-squared:                  0.655\n",
      "Method:                 Least Squares   F-statistic:                     151.9\n",
      "Date:                Wed, 10 Nov 2021   Prob (F-statistic):           1.98e-37\n",
      "Time:                        23:46:08   Log-Likelihood:                -484.68\n",
      "No. Observations:                 160   AIC:                             975.4\n",
      "Df Residuals:                     157   BIC:                             984.6\n",
      "Df Model:                           2                                         \n",
      "Covariance Type:            nonrobust                                         \n",
      "==============================================================================\n",
      "                 coef    std err          t      P>|t|      [0.025      0.975]\n",
      "------------------------------------------------------------------------------\n",
      "const         67.7454      0.433    156.312      0.000      66.889      68.601\n",
      "x1            -2.4865      0.175    -14.227      0.000      -2.832      -2.141\n",
      "x2             6.7027      1.163      5.761      0.000       4.405       9.001\n",
      "==============================================================================\n",
      "Omnibus:                        1.766   Durbin-Watson:                   1.942\n",
      "Prob(Omnibus):                  0.414   Jarque-Bera (JB):                1.541\n",
      "Skew:                          -0.104   Prob(JB):                        0.463\n",
      "Kurtosis:                       2.567   Cond. No.                         7.05\n",
      "==============================================================================\n",
      "\n",
      "Notes:\n",
      "[1] Standard Errors assume that the covariance matrix of the errors is correctly specified.\n"
     ]
    },
    {
     "data": {
      "image/png": "[encoded data removed]",
      "text/plain": [
       "<Figure size 432x288 with 1 Axes>"
      ]
     },
     "metadata": {
      "needs_background": "light"
     },
     "output_type": "display_data"
    },
    {
     "data": {
      "text/plain": [
       "<Figure size 2160x2160 with 0 Axes>"
      ]
     },
     "metadata": {},
     "output_type": "display_data"
    },
    {
     "data": {
      "image/png": "[encoded data removed]",
      "text/plain": [
       "<Figure size 432x288 with 1 Axes>"
      ]
     },
     "metadata": {
      "needs_background": "light"
     },
     "output_type": "display_data"
    },
    {
     "data": {
      "image/png": "[encoded data removed]",
      "text/plain": [
       "<Figure size 432x288 with 1 Axes>"
      ]
     },
     "metadata": {
      "needs_background": "light"
     },
     "output_type": "display_data"
    },
    {
     "data": {
      "text/plain": [
       "{'r2': 0.6592460362959123,\n",
       " 'rmse': 5.004319673514516,\n",
       " 'adjusted': 0.6549052214716564}"
      ]
     },
     "execution_count": 37,
     "metadata": {},
     "output_type": "execute_result"
    }
   ],
   "source": [
    "run_analysis(['enfermedades_all', 'Status_Float'], df_virus_no_outliers)"
   ]
  },
  {
   "cell_type": "markdown",
   "id": "d01c4f24-8861-4c5c-b2f5-e030805ad26f",
   "metadata": {},
   "source": [
    "### Si realizo el analisis teniendo en cuenta el estado de un pais (en desarrollo o desarrollado), la regresion es mas certera y solo agrego una variable"
   ]
  }
 ],
 "metadata": {
  "kernelspec": {
   "display_name": "Python 3",
   "language": "python",
   "name": "python3"
  },
  "language_info": {
   "codemirror_mode": {
    "name": "ipython",
    "version": 3
   },
   "file_extension": ".py",
   "mimetype": "text/x-python",
   "name": "python",
   "nbconvert_exporter": "python",
   "pygments_lexer": "ipython3",
   "version": "3.6.5"
  }
 },
 "nbformat": 4,
 "nbformat_minor": 5
}

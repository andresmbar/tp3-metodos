{
 "cells": [
  {
   "cell_type": "markdown",
   "id": "a1eed745",
   "metadata": {},
   "source": [
    "### Compilo"
   ]
  },
  {
   "cell_type": "code",
   "execution_count": 1,
   "id": "7afae6f9",
   "metadata": {},
   "outputs": [
    {
     "name": "stdout",
     "output_type": "stream",
     "text": [
      "mkdir: cannot create directory ‘build’: File exists\n",
      "-- The C compiler identification is GNU 10.3.0\n",
      "-- The CXX compiler identification is GNU 10.3.0\n",
      "-- Detecting C compiler ABI info\n",
      "-- Detecting C compiler ABI info - done\n",
      "-- Check for working C compiler: /usr/bin/cc - skipped\n",
      "-- Detecting C compile features\n",
      "-- Detecting C compile features - done\n",
      "-- Detecting CXX compiler ABI info\n",
      "-- Detecting CXX compiler ABI info - done\n",
      "-- Check for working CXX compiler: /usr/bin/c++ - skipped\n",
      "-- Detecting CXX compile features\n",
      "-- Detecting CXX compile features - done\n",
      "Release mode\n",
      "-- Found PythonInterp: /home/andres/anaconda3/envs/tp2/bin/python (found version \"3.6.5\") \n",
      "-- Found PythonLibs: /home/andres/anaconda3/envs/tp2/lib/libpython3.6m.so\n",
      "-- pybind11 v2.2.4\n",
      "-- Performing Test HAS_FLTO\n",
      "-- Performing Test HAS_FLTO - Success\n",
      "-- LTO enabled\n",
      "CMAKE_INSTALL_PREFIX=/home/andres/Desktop/__tp2\n",
      "-- Configuring done\n",
      "-- Generating done\n",
      "-- Build files have been written to: /home/andres/Desktop/__tp2/build\n",
      "\u001b[35m\u001b[1mScanning dependencies of target tp2\u001b[0m\n",
      "[  8%] \u001b[32mBuilding CXX object CMakeFiles/tp2.dir/src/main.cpp.o\u001b[0m\n",
      "[ 16%] \u001b[32mBuilding CXX object CMakeFiles/tp2.dir/src/knn.cpp.o\u001b[0m\n",
      "\u001b[01m\u001b[K/home/andres/Desktop/__tp2/src/knn.cpp:\u001b[m\u001b[K In member function ‘\u001b[01m\u001b[Kstd::vector<std::tuple<double, int> >* KNNClassifier::neighbours_sorted_by_distance(Matrix&, std::vector<std::tuple<Eigen::Matrix<double, -1, 1, 0, -1, 1>, int> >&, int)\u001b[m\u001b[K’:\n",
      "\u001b[01m\u001b[K/home/andres/Desktop/__tp2/src/knn.cpp:84:23:\u001b[m\u001b[K \u001b[01;35m\u001b[Kwarning: \u001b[m\u001b[Kcomparison of integer expressions of different signedness: ‘\u001b[01m\u001b[Kint\u001b[m\u001b[K’ and ‘\u001b[01m\u001b[Kstd::vector<std::tuple<Eigen::Matrix<double, -1, 1, 0, -1, 1>, int> >::size_type\u001b[m\u001b[K’ {aka ‘\u001b[01m\u001b[Klong unsigned int\u001b[m\u001b[K’} [\u001b[01;35m\u001b[K\u001b]8;;https://gcc.gnu.org/onlinedocs/gcc/Warning-Options.html#index-Wsign-compare\u0007-Wsign-compare\u001b]8;;\u0007\u001b[m\u001b[K]\n",
      "   84 |     for (int i = 0; \u001b[01;35m\u001b[Ki < imagenes.size()\u001b[m\u001b[K; i++) {\n",
      "      |                     \u001b[01;35m\u001b[K~~^~~~~~~~~~~~~~~~~\u001b[m\u001b[K\n",
      "\u001b[01m\u001b[K/home/andres/Desktop/__tp2/src/knn.cpp:\u001b[m\u001b[K In member function ‘\u001b[01m\u001b[Kint KNNClassifier::majority_category(std::vector<std::tuple<double, int> >&, uint)\u001b[m\u001b[K’:\n",
      "\u001b[01m\u001b[K/home/andres/Desktop/__tp2/src/knn.cpp:112:23:\u001b[m\u001b[K \u001b[01;35m\u001b[Kwarning: \u001b[m\u001b[Kcomparison of integer expressions of different signedness: ‘\u001b[01m\u001b[Kint\u001b[m\u001b[K’ and ‘\u001b[01m\u001b[Kuint\u001b[m\u001b[K’ {aka ‘\u001b[01m\u001b[Kunsigned int\u001b[m\u001b[K’} [\u001b[01;35m\u001b[K\u001b]8;;https://gcc.gnu.org/onlinedocs/gcc/Warning-Options.html#index-Wsign-compare\u0007-Wsign-compare\u001b]8;;\u0007\u001b[m\u001b[K]\n",
      "  112 |     for (int i = 0; \u001b[01;35m\u001b[Ki < cant_vecinos\u001b[m\u001b[K; i++) {\n",
      "      |                     \u001b[01;35m\u001b[K~~^~~~~~~~~~~~~~\u001b[m\u001b[K\n",
      "[ 25%] \u001b[32mBuilding CXX object CMakeFiles/tp2.dir/src/pca.cpp.o\u001b[0m\n",
      "[ 33%] \u001b[32mBuilding CXX object CMakeFiles/tp2.dir/src/eigen.cpp.o\u001b[0m\n",
      "\u001b[01m\u001b[K/home/andres/Desktop/__tp2/src/eigen.cpp:\u001b[m\u001b[K In function ‘\u001b[01m\u001b[Kstd::pair<double, Eigen::Matrix<double, -1, 1> > power_iteration(const Matrix&, unsigned int, double)\u001b[m\u001b[K’:\n",
      "\u001b[01m\u001b[K/home/andres/Desktop/__tp2/src/eigen.cpp:13:20:\u001b[m\u001b[K \u001b[01;35m\u001b[Kwarning: \u001b[m\u001b[Kcomparison of integer expressions of different signedness: ‘\u001b[01m\u001b[Kint\u001b[m\u001b[K’ and ‘\u001b[01m\u001b[Kunsigned int\u001b[m\u001b[K’ [\u001b[01;35m\u001b[K\u001b]8;;https://gcc.gnu.org/onlinedocs/gcc/Warning-Options.html#index-Wsign-compare\u0007-Wsign-compare\u001b]8;;\u0007\u001b[m\u001b[K]\n",
      "   13 |     for (int i=0; \u001b[01;35m\u001b[Ki<num_iter\u001b[m\u001b[K; i++) {\n",
      "      |                   \u001b[01;35m\u001b[K~^~~~~~~~~\u001b[m\u001b[K\n",
      "\u001b[01m\u001b[K/home/andres/Desktop/__tp2/src/eigen.cpp:\u001b[m\u001b[K In function ‘\u001b[01m\u001b[Kstd::pair<Eigen::Matrix<double, -1, 1>, Eigen::Matrix<double, -1, -1, 1> > get_first_eigenvalues(const Matrix&, unsigned int, unsigned int, double)\u001b[m\u001b[K’:\n",
      "\u001b[01m\u001b[K/home/andres/Desktop/__tp2/src/eigen.cpp:31:20:\u001b[m\u001b[K \u001b[01;35m\u001b[Kwarning: \u001b[m\u001b[Kcomparison of integer expressions of different signedness: ‘\u001b[01m\u001b[Kint\u001b[m\u001b[K’ and ‘\u001b[01m\u001b[Kunsigned int\u001b[m\u001b[K’ [\u001b[01;35m\u001b[K\u001b]8;;https://gcc.gnu.org/onlinedocs/gcc/Warning-Options.html#index-Wsign-compare\u0007-Wsign-compare\u001b]8;;\u0007\u001b[m\u001b[K]\n",
      "   31 |     for (int i=0; \u001b[01;35m\u001b[Ki<num\u001b[m\u001b[K; i++) {\n",
      "      |                   \u001b[01;35m\u001b[K~^~~~\u001b[m\u001b[K\n",
      "[ 41%] \u001b[32mBuilding CXX object CMakeFiles/tp2.dir/src/lsq.cpp.o\u001b[0m\n",
      "[ 50%] \u001b[32m\u001b[1mLinking CXX executable tp2\u001b[0m\n",
      "[ 50%] Built target tp2\n",
      "\u001b[35m\u001b[1mScanning dependencies of target metnum\u001b[0m\n",
      "[ 58%] \u001b[32mBuilding CXX object CMakeFiles/metnum.dir/src/metnum.cpp.o\u001b[0m\n",
      "[ 66%] \u001b[32mBuilding CXX object CMakeFiles/metnum.dir/src/knn.cpp.o\u001b[0m\n",
      "\u001b[01m\u001b[K/home/andres/Desktop/__tp2/src/knn.cpp:\u001b[m\u001b[K In member function ‘\u001b[01m\u001b[Kstd::vector<std::tuple<double, int> >* KNNClassifier::neighbours_sorted_by_distance(Matrix&, std::vector<std::tuple<Eigen::Matrix<double, -1, 1, 0, -1, 1>, int> >&, int)\u001b[m\u001b[K’:\n",
      "\u001b[01m\u001b[K/home/andres/Desktop/__tp2/src/knn.cpp:84:23:\u001b[m\u001b[K \u001b[01;35m\u001b[Kwarning: \u001b[m\u001b[Kcomparison of integer expressions of different signedness: ‘\u001b[01m\u001b[Kint\u001b[m\u001b[K’ and ‘\u001b[01m\u001b[Kstd::vector<std::tuple<Eigen::Matrix<double, -1, 1, 0, -1, 1>, int> >::size_type\u001b[m\u001b[K’ {aka ‘\u001b[01m\u001b[Klong unsigned int\u001b[m\u001b[K’} [\u001b[01;35m\u001b[K\u001b]8;;https://gcc.gnu.org/onlinedocs/gcc/Warning-Options.html#index-Wsign-compare\u0007-Wsign-compare\u001b]8;;\u0007\u001b[m\u001b[K]\n",
      "   84 |     for (int i = 0; \u001b[01;35m\u001b[Ki < imagenes.size()\u001b[m\u001b[K; i++) {\n",
      "      |                     \u001b[01;35m\u001b[K~~^~~~~~~~~~~~~~~~~\u001b[m\u001b[K\n",
      "\u001b[01m\u001b[K/home/andres/Desktop/__tp2/src/knn.cpp:\u001b[m\u001b[K In member function ‘\u001b[01m\u001b[Kint KNNClassifier::majority_category(std::vector<std::tuple<double, int> >&, uint)\u001b[m\u001b[K’:\n",
      "\u001b[01m\u001b[K/home/andres/Desktop/__tp2/src/knn.cpp:112:23:\u001b[m\u001b[K \u001b[01;35m\u001b[Kwarning: \u001b[m\u001b[Kcomparison of integer expressions of different signedness: ‘\u001b[01m\u001b[Kint\u001b[m\u001b[K’ and ‘\u001b[01m\u001b[Kuint\u001b[m\u001b[K’ {aka ‘\u001b[01m\u001b[Kunsigned int\u001b[m\u001b[K’} [\u001b[01;35m\u001b[K\u001b]8;;https://gcc.gnu.org/onlinedocs/gcc/Warning-Options.html#index-Wsign-compare\u0007-Wsign-compare\u001b]8;;\u0007\u001b[m\u001b[K]\n",
      "  112 |     for (int i = 0; \u001b[01;35m\u001b[Ki < cant_vecinos\u001b[m\u001b[K; i++) {\n",
      "      |                     \u001b[01;35m\u001b[K~~^~~~~~~~~~~~~~\u001b[m\u001b[K\n",
      "[ 75%] \u001b[32mBuilding CXX object CMakeFiles/metnum.dir/src/pca.cpp.o\u001b[0m\n",
      "[ 83%] \u001b[32mBuilding CXX object CMakeFiles/metnum.dir/src/eigen.cpp.o\u001b[0m\n",
      "\u001b[01m\u001b[K/home/andres/Desktop/__tp2/src/eigen.cpp:\u001b[m\u001b[K In function ‘\u001b[01m\u001b[Kstd::pair<double, Eigen::Matrix<double, -1, 1> > power_iteration(const Matrix&, unsigned int, double)\u001b[m\u001b[K’:\n",
      "\u001b[01m\u001b[K/home/andres/Desktop/__tp2/src/eigen.cpp:13:20:\u001b[m\u001b[K \u001b[01;35m\u001b[Kwarning: \u001b[m\u001b[Kcomparison of integer expressions of different signedness: ‘\u001b[01m\u001b[Kint\u001b[m\u001b[K’ and ‘\u001b[01m\u001b[Kunsigned int\u001b[m\u001b[K’ [\u001b[01;35m\u001b[K\u001b]8;;https://gcc.gnu.org/onlinedocs/gcc/Warning-Options.html#index-Wsign-compare\u0007-Wsign-compare\u001b]8;;\u0007\u001b[m\u001b[K]\n",
      "   13 |     for (int i=0; \u001b[01;35m\u001b[Ki<num_iter\u001b[m\u001b[K; i++) {\n",
      "      |                   \u001b[01;35m\u001b[K~^~~~~~~~~\u001b[m\u001b[K\n",
      "\u001b[01m\u001b[K/home/andres/Desktop/__tp2/src/eigen.cpp:\u001b[m\u001b[K In function ‘\u001b[01m\u001b[Kstd::pair<Eigen::Matrix<double, -1, 1>, Eigen::Matrix<double, -1, -1, 1> > get_first_eigenvalues(const Matrix&, unsigned int, unsigned int, double)\u001b[m\u001b[K’:\n",
      "\u001b[01m\u001b[K/home/andres/Desktop/__tp2/src/eigen.cpp:31:20:\u001b[m\u001b[K \u001b[01;35m\u001b[Kwarning: \u001b[m\u001b[Kcomparison of integer expressions of different signedness: ‘\u001b[01m\u001b[Kint\u001b[m\u001b[K’ and ‘\u001b[01m\u001b[Kunsigned int\u001b[m\u001b[K’ [\u001b[01;35m\u001b[K\u001b]8;;https://gcc.gnu.org/onlinedocs/gcc/Warning-Options.html#index-Wsign-compare\u0007-Wsign-compare\u001b]8;;\u0007\u001b[m\u001b[K]\n",
      "   31 |     for (int i=0; \u001b[01;35m\u001b[Ki<num\u001b[m\u001b[K; i++) {\n",
      "      |                   \u001b[01;35m\u001b[K~^~~~\u001b[m\u001b[K\n",
      "[ 91%] \u001b[32mBuilding CXX object CMakeFiles/metnum.dir/src/lsq.cpp.o\u001b[0m\n",
      "[100%] \u001b[32m\u001b[1mLinking CXX shared module metnum.cpython-36m-x86_64-linux-gnu.so\u001b[0m\n",
      "[100%] Built target metnum\n",
      "\u001b[36mInstall the project...\u001b[0m\n",
      "-- Install configuration: \"Release\"\n",
      "-- Installing: /home/andres/Desktop/__tp2/notebooks/metnum.cpython-36m-x86_64-linux-gnu.so\n"
     ]
    }
   ],
   "source": [
    "!cd .. && mkdir build\n",
    "!cd ../build/ && rm -rf *\n",
    "!cd ../build && cmake \\\n",
    "  -DPYTHON_EXECUTABLE=\"$(which python)\" \\\n",
    "  -DCMAKE_BUILD_TYPE=Release ..\n",
    "!cd ../build && make install"
   ]
  },
  {
   "cell_type": "code",
   "execution_count": 2,
   "id": "57dd8931",
   "metadata": {},
   "outputs": [
    {
     "name": "stdout",
     "output_type": "stream",
     "text": [
      "/home/andres/Desktop/__tp2/notebooks\n",
      "Python 3.6.5 :: Anaconda, Inc.\n"
     ]
    }
   ],
   "source": [
    "# Verifico la correcta instalación. Si no falla el import está OK\n",
    "!pwd\n",
    "!python --version\n",
    "import metnum"
   ]
  },
  {
   "cell_type": "markdown",
   "id": "5469e778",
   "metadata": {},
   "source": [
    "### Cargo los datos"
   ]
  },
  {
   "cell_type": "code",
   "execution_count": 2,
   "id": "8557dfbc",
   "metadata": {},
   "outputs": [],
   "source": [
    "%load_ext autoreload\n",
    "%autoreload 2\n",
    "import pandas as pd\n",
    "\n",
    "df_train = pd.read_csv(\"../data/train.csv\")"
   ]
  },
  {
   "cell_type": "markdown",
   "id": "13420b3b",
   "metadata": {},
   "source": [
    "### Reduzco el dataset"
   ]
  },
  {
   "cell_type": "code",
   "execution_count": 3,
   "id": "c0006571",
   "metadata": {},
   "outputs": [],
   "source": [
    "df_train = df_train[:1000]"
   ]
  },
  {
   "cell_type": "code",
   "execution_count": 3,
   "id": "fd00a26d",
   "metadata": {},
   "outputs": [
    {
     "data": {
      "text/plain": [
       "((42000, 784), (42000, 1))"
      ]
     },
     "execution_count": 3,
     "metadata": {},
     "output_type": "execute_result"
    }
   ],
   "source": [
    "# Uso values para mandar todo a arrays de numpy\n",
    "X = df_train[df_train.columns[1:]].values\n",
    "y = df_train[\"label\"].values.reshape(-1, 1)\n",
    "\n",
    "X.shape, y.shape"
   ]
  },
  {
   "cell_type": "code",
   "execution_count": 4,
   "id": "ecc74600",
   "metadata": {},
   "outputs": [
    {
     "name": "stdout",
     "output_type": "stream",
     "text": [
      "Supuestamente es un 7\n"
     ]
    },
    {
     "data": {
      "text/plain": [
       "<matplotlib.image.AxesImage at 0x7f292068f0f0>"
      ]
     },
     "execution_count": 4,
     "metadata": {},
     "output_type": "execute_result"
    },
    {
     "data": {
      "image/png": "[encoded data removed]",
      "text/plain": [
       "<Figure size 432x288 with 1 Axes>"
      ]
     },
     "metadata": {
      "needs_background": "light"
     },
     "output_type": "display_data"
    }
   ],
   "source": [
    "import matplotlib.pyplot as plt\n",
    "\n",
    "num = 1917\n",
    "\n",
    "print(f\"Supuestamente es un {int(y[num])}\")\n",
    "\n",
    "img = X[num].reshape(28, 28)\n",
    "plt.imshow(img, cmap=\"Greys\")"
   ]
  },
  {
   "cell_type": "markdown",
   "id": "3c1a7166",
   "metadata": {},
   "source": [
    "### Aplico PCA"
   ]
  },
  {
   "cell_type": "code",
   "execution_count": 4,
   "id": "61d60905",
   "metadata": {},
   "outputs": [
    {
     "name": "stdout",
     "output_type": "stream",
     "text": [
      "115.55780863761902\n",
      "[[ 3.22829528 -3.4123305  -0.89433543 ... -0.95497514 -0.25973513\n",
      "  -0.0336182 ]\n",
      " [-8.30233295 -1.75933239  2.44858973 ... -0.56579949  0.2826323\n",
      "  -0.05096594]\n",
      " [ 4.32765323 -1.43344731 -0.32768826 ...  0.2387143  -0.57604068\n",
      "  -0.08233956]\n",
      " ...\n",
      " [-1.64084903  4.63565509  0.82271998 ...  0.70941014 -0.42571124\n",
      "   0.18803741]\n",
      " [-1.59756447  0.30261113 -3.40366964 ... -0.29661678  0.22902611\n",
      "   0.16206994]\n",
      " [ 1.77737526  2.04401301 -0.30692336 ...  0.69552273  1.12591955\n",
      "  -0.63491434]]\n"
     ]
    }
   ],
   "source": [
    "import time\n",
    "\n",
    "setup_time_start_time = time.time()\n",
    "pca = metnum.PCA(35)\n",
    "\n",
    "Xt = pca.transform(X)\n",
    "setup_time_end_time = time.time()\n",
    "setup_time = setup_time_end_time-setup_time_start_time\n",
    "print(setup_time)\n",
    "print(Xt)"
   ]
  },
  {
   "cell_type": "code",
   "execution_count": null,
   "id": "1f573881",
   "metadata": {},
   "outputs": [],
   "source": [
    "Xt"
   ]
  },
  {
   "cell_type": "markdown",
   "id": "666166c7",
   "metadata": {},
   "source": [
    "### Verifico que las dimensiones estén bien"
   ]
  },
  {
   "cell_type": "code",
   "execution_count": 36,
   "id": "23258f04",
   "metadata": {},
   "outputs": [
    {
     "data": {
      "text/plain": [
       "(42000, 784)"
      ]
     },
     "execution_count": 36,
     "metadata": {},
     "output_type": "execute_result"
    }
   ],
   "source": [
    "X.shape"
   ]
  },
  {
   "cell_type": "code",
   "execution_count": 5,
   "id": "1ee99cd7",
   "metadata": {},
   "outputs": [
    {
     "data": {
      "text/plain": [
       "(42000, 35)"
      ]
     },
     "execution_count": 5,
     "metadata": {},
     "output_type": "execute_result"
    }
   ],
   "source": [
    "Xt.shape"
   ]
  },
  {
   "cell_type": "markdown",
   "id": "8f170565",
   "metadata": {},
   "source": [
    "### Grafico las componentes principales para verificar que los autovectores estén bien calculados"
   ]
  },
  {
   "cell_type": "markdown",
   "id": "2e867141",
   "metadata": {},
   "source": [
    "#### Primer componente principal"
   ]
  },
  {
   "cell_type": "code",
   "execution_count": 57,
   "id": "3a5668cc",
   "metadata": {},
   "outputs": [
    {
     "data": {
      "text/plain": [
       "<matplotlib.image.AxesImage at 0x7f886bbfe048>"
      ]
     },
     "execution_count": 57,
     "metadata": {},
     "output_type": "execute_result"
    },
    {
     "data": {
      "image/png": "[encoded data removed]",
      "text/plain": [
       "<Figure size 432x288 with 1 Axes>"
      ]
     },
     "metadata": {
      "needs_background": "light"
     },
     "output_type": "display_data"
    }
   ],
   "source": [
    "cp = pca.componentesPrincipales()\n",
    "cp = cp.transpose()\n",
    "img = cp[0].reshape(28, 28)\n",
    "plt.imshow(img, cmap=\"Greys\")"
   ]
  },
  {
   "cell_type": "markdown",
   "id": "00a2238b",
   "metadata": {},
   "source": [
    "#### Segunda componente principal"
   ]
  },
  {
   "cell_type": "code",
   "execution_count": 58,
   "id": "3f4f7542",
   "metadata": {},
   "outputs": [
    {
     "data": {
      "text/plain": [
       "<matplotlib.image.AxesImage at 0x7f886babe780>"
      ]
     },
     "execution_count": 58,
     "metadata": {},
     "output_type": "execute_result"
    },
    {
     "data": {
      "image/png": "[encoded data removed]",
      "text/plain": [
       "<Figure size 432x288 with 1 Axes>"
      ]
     },
     "metadata": {
      "needs_background": "light"
     },
     "output_type": "display_data"
    }
   ],
   "source": [
    "img = cp[1].reshape(28, 28)\n",
    "plt.imshow(img, cmap=\"Greys\")"
   ]
  },
  {
   "cell_type": "markdown",
   "id": "53668fbd",
   "metadata": {},
   "source": [
    "#### Tercer componente principal"
   ]
  },
  {
   "cell_type": "code",
   "execution_count": 59,
   "id": "31d1167c",
   "metadata": {},
   "outputs": [
    {
     "data": {
      "text/plain": [
       "<matplotlib.image.AxesImage at 0x7f886bc7fe48>"
      ]
     },
     "execution_count": 59,
     "metadata": {},
     "output_type": "execute_result"
    },
    {
     "data": {
      "image/png": "[encoded data removed]",
      "text/plain": [
       "<Figure size 432x288 with 1 Axes>"
      ]
     },
     "metadata": {
      "needs_background": "light"
     },
     "output_type": "display_data"
    }
   ],
   "source": [
    "img = cp[2].reshape(28, 28)\n",
    "plt.imshow(img, cmap=\"Greys\")"
   ]
  },
  {
   "cell_type": "markdown",
   "id": "e172c18d",
   "metadata": {},
   "source": [
    "### Aplico kNN"
   ]
  },
  {
   "cell_type": "markdown",
   "id": "8253fc3e",
   "metadata": {},
   "source": [
    "#### Pruebo primero con los datos sin transformar"
   ]
  },
  {
   "cell_type": "code",
   "execution_count": 27,
   "id": "f7bf117d",
   "metadata": {},
   "outputs": [
    {
     "name": "stdout",
     "output_type": "stream",
     "text": [
      "Ahora tengo 800 instancias de entrenamiento y 200 de validación\n"
     ]
    }
   ],
   "source": [
    "\n",
    "X_train, y_train = X[:limit], y[:limit]\n",
    "X_val, y_val = X[limit:], y[limit:]\n",
    "\n",
    "assert len(X_train) == len(y_train)\n",
    "assert len(X_val) == len(y_val)\n",
    "\n",
    "print(f\"Ahora tengo {len(X_train)} instancias de entrenamiento y {len(X_val)} de validación\")"
   ]
  },
  {
   "cell_type": "code",
   "execution_count": 8,
   "id": "7f8ce3cd",
   "metadata": {},
   "outputs": [
    {
     "ename": "NameError",
     "evalue": "name 'X_train' is not defined",
     "output_type": "error",
     "traceback": [
      "\u001b[0;31m---------------------------------------------------------------------------\u001b[0m",
      "\u001b[0;31mNameError\u001b[0m                                 Traceback (most recent call last)",
      "\u001b[0;32m<ipython-input-8-cb7976456f1a>\u001b[0m in \u001b[0;36m<module>\u001b[0;34m\u001b[0m\n\u001b[1;32m      6\u001b[0m \u001b[0;31m#clf = KNeighborsClassifier(10)\u001b[0m\u001b[0;34m\u001b[0m\u001b[0;34m\u001b[0m\u001b[0m\n\u001b[1;32m      7\u001b[0m \u001b[0;34m\u001b[0m\u001b[0m\n\u001b[0;32m----> 8\u001b[0;31m \u001b[0mclf\u001b[0m\u001b[0;34m.\u001b[0m\u001b[0mfit\u001b[0m\u001b[0;34m(\u001b[0m\u001b[0mX_train\u001b[0m\u001b[0;34m,\u001b[0m \u001b[0my_train\u001b[0m\u001b[0;34m)\u001b[0m\u001b[0;34m\u001b[0m\u001b[0m\n\u001b[0m",
      "\u001b[0;31mNameError\u001b[0m: name 'X_train' is not defined"
     ]
    }
   ],
   "source": [
    "from sklearn.neighbors import KNeighborsClassifier\n",
    "\n",
    "# Acá pueden cambiar el clasificador nuestro por el de sklearn!\n",
    "\n",
    "\n",
    "#clf = KNeighborsClassifier(10)\n",
    "\n",
    "clf.fit(X_train, y_train)"
   ]
  },
  {
   "cell_type": "code",
   "execution_count": 24,
   "id": "7ffb02ea",
   "metadata": {},
   "outputs": [
    {
     "ename": "NameError",
     "evalue": "name 'X_train' is not defined",
     "output_type": "error",
     "traceback": [
      "\u001b[0;31m---------------------------------------------------------------------------\u001b[0m",
      "\u001b[0;31mNameError\u001b[0m                                 Traceback (most recent call last)",
      "\u001b[0;32m<timed exec>\u001b[0m in \u001b[0;36m<module>\u001b[0;34m\u001b[0m\n",
      "\u001b[0;31mNameError\u001b[0m: name 'X_train' is not defined"
     ]
    }
   ],
   "source": [
    "%%time\n",
    "clf = metnum.KNNClassifier(10)\n",
    "\n",
    "clf.fit(X_train, y_train)\n",
    "y_pred = clf.predict(X_val)\n",
    "\n",
    "acc = accuracy_score(y_val, y_pred)\n",
    "print(\"Accuracy: {}\".format(acc))"
   ]
  },
  {
   "cell_type": "markdown",
   "id": "82478c91",
   "metadata": {},
   "source": [
    "#### Ahora uso kNN con PCA"
   ]
  },
  {
   "cell_type": "code",
   "execution_count": 6,
   "id": "30650d56",
   "metadata": {},
   "outputs": [
    {
     "name": "stdout",
     "output_type": "stream",
     "text": [
      "(33600, 35)\n",
      "115.55780863761902\n",
      "116.68017148971558\n"
     ]
    }
   ],
   "source": [
    "limit = int(0.8 * Xt.shape[0]) \n",
    "Xt_train, y_train = Xt[:limit], y[:limit]\n",
    "Xt_val,y_val = Xt[limit:],y[limit:]\n",
    "print(Xt_train.shape)\n",
    "\n",
    "clf = metnum.KNNClassifier(30000)\n",
    "predict_time_start_time = time.time()\n",
    "clf.fit(Xt_train, y_train)\n",
    "predict_time_end_time = time.time()\n",
    "predict_time = predict_time_end_time-predict_time_start_time\n",
    "print(setup_time)\n",
    "print(predict_time + setup_time)"
   ]
  },
  {
   "cell_type": "code",
   "execution_count": 7,
   "id": "d0a50e08",
   "metadata": {},
   "outputs": [
    {
     "name": "stdout",
     "output_type": "stream",
     "text": [
      "[0.98666667 0.12825705 0.32258065 0.09569378 0.         0.\n",
      " 0.375      0.11725293 0.8        0.        ]\n",
      "Accuracy: 0.1357142857142857\n",
      "CPU times: user 1min 12s, sys: 386 ms, total: 1min 12s\n",
      "Wall time: 1min 12s\n"
     ]
    },
    {
     "name": "stderr",
     "output_type": "stream",
     "text": [
      "/home/sebasbocaccio/anaconda3/envs/tp2/lib/python3.6/site-packages/sklearn/metrics/classification.py:1143: UndefinedMetricWarning: Precision is ill-defined and being set to 0.0 in labels with no predicted samples.\n",
      "  'precision', 'predicted', average, warn_for)\n"
     ]
    }
   ],
   "source": [
    "%%time\n",
    "\n",
    "from sklearn.metrics import accuracy_score,precision_score,recall_score\n",
    "y_pred = clf.predict(Xt_val)\n",
    "\n",
    "acc = accuracy_score(y_val, y_pred)\n",
    "labels= [0,1,2,3,4,5,6,7,8,9]\n",
    "precision = precision_score(y_val, y_pred,labels=labels, average=None)\n",
    "print(precision)\n",
    "print(\"Accuracy: {}\".format(acc))"
   ]
  }
 ],
 "metadata": {
  "kernelspec": {
   "display_name": "Python 3",
   "language": "python",
   "name": "python3"
  },
  "language_info": {
   "codemirror_mode": {
    "name": "ipython",
    "version": 3
   },
   "file_extension": ".py",
   "mimetype": "text/x-python",
   "name": "python",
   "nbconvert_exporter": "python",
   "pygments_lexer": "ipython3",
   "version": "3.6.5"
  }
 },
 "nbformat": 4,
 "nbformat_minor": 5
}

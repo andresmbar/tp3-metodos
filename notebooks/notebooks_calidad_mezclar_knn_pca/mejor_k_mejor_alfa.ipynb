{
 "cells": [
  {
   "cell_type": "markdown",
   "id": "5ceadb0e",
   "metadata": {},
   "source": [
    "### Cargo los datos"
   ]
  },
  {
   "cell_type": "code",
   "execution_count": 1,
   "id": "ecd37711",
   "metadata": {},
   "outputs": [],
   "source": [
    "%load_ext autoreload\n",
    "%autoreload 2\n",
    "import pandas as pd\n",
    "\n",
    "df_total = pd.read_csv(\"../data/train.csv\")"
   ]
  },
  {
   "cell_type": "markdown",
   "id": "5d22ebc7",
   "metadata": {},
   "source": [
    "### Desordeno los datos"
   ]
  },
  {
   "cell_type": "code",
   "execution_count": 2,
   "id": "df02fedb",
   "metadata": {},
   "outputs": [],
   "source": [
    "df_total = df_total.sample(frac=1, random_state=100)"
   ]
  },
  {
   "cell_type": "code",
   "execution_count": 3,
   "id": "ca2d6ba6",
   "metadata": {},
   "outputs": [
    {
     "data": {
      "text/plain": [
       "((42000, 784), (42000, 1))"
      ]
     },
     "execution_count": 3,
     "metadata": {},
     "output_type": "execute_result"
    }
   ],
   "source": [
    "# Uso values para mandar todo a arrays de numpy\n",
    "X = df_total[df_total.columns[1:]].values\n",
    "y = df_total[\"label\"].values.reshape(-1, 1)\n",
    "\n",
    "X.shape, y.shape"
   ]
  },
  {
   "cell_type": "markdown",
   "id": "e2c814d1",
   "metadata": {},
   "source": [
    "### Fijo un estado inicial para los parámetros"
   ]
  },
  {
   "cell_type": "code",
   "execution_count": 5,
   "id": "c944be5b",
   "metadata": {},
   "outputs": [],
   "source": [
    "k = 1\n",
    "alfa = 1"
   ]
  },
  {
   "cell_type": "markdown",
   "id": "e5a4b4ac",
   "metadata": {},
   "source": [
    "### Aplico PCA"
   ]
  },
  {
   "cell_type": "code",
   "execution_count": 7,
   "id": "c8b593cb",
   "metadata": {},
   "outputs": [],
   "source": [
    "import metnum\n",
    "\n",
    "pca = metnum.PCA(1)\n",
    "X = pca.transform(X)"
   ]
  },
  {
   "cell_type": "markdown",
   "id": "70dda5b8",
   "metadata": {},
   "source": [
    "### Aplico kNN"
   ]
  },
  {
   "cell_type": "code",
   "execution_count": 8,
   "id": "60bf4c3f",
   "metadata": {},
   "outputs": [
    {
     "name": "stdout",
     "output_type": "stream",
     "text": [
      "Ahora tengo 33600 instancias de entrenamiento y 8400 de validación\n"
     ]
    }
   ],
   "source": [
    "limit = int(0.8 * X.shape[0]) \n",
    "\n",
    "X_train, y_train = X[:limit], y[:limit]\n",
    "X_val, y_val = X[limit:], y[limit:]\n",
    "\n",
    "assert len(X_train) == len(y_train)\n",
    "assert len(X_val) == len(y_val)\n",
    "\n",
    "print(f\"Ahora tengo {len(X_train)} instancias de entrenamiento y {len(X_val)} de validación\")"
   ]
  },
  {
   "cell_type": "code",
   "execution_count": 9,
   "id": "bfa43860",
   "metadata": {},
   "outputs": [],
   "source": [
    "clf = metnum.KNNClassifier(k)\n",
    "clf.fit(X_train, y_train)"
   ]
  },
  {
   "cell_type": "code",
   "execution_count": 10,
   "id": "823077b2",
   "metadata": {},
   "outputs": [
    {
     "name": "stdout",
     "output_type": "stream",
     "text": [
      "Accuracy: 0.22595238095238096\n",
      "CPU times: user 34 s, sys: 427 ms, total: 34.5 s\n",
      "Wall time: 39 s\n"
     ]
    }
   ],
   "source": [
    "%%time\n",
    "from sklearn.metrics import accuracy_score\n",
    "y_pred = clf.predict(X_val)\n",
    "\n",
    "acc = accuracy_score(y_val, y_pred)\n",
    "print(\"Accuracy: {}\".format(acc))"
   ]
  },
  {
   "cell_type": "markdown",
   "id": "44d366bd",
   "metadata": {},
   "source": [
    "### Pongo todo esto adentro de una función y sigo probando"
   ]
  },
  {
   "cell_type": "code",
   "execution_count": 13,
   "id": "cfea430c",
   "metadata": {},
   "outputs": [],
   "source": [
    "def kNNconPCA(datos, k, alfa, semilla):\n",
    "    df_train = pd.read_csv(datos)\n",
    "    df_train = df_train.sample(frac=1, random_state=semilla)\n",
    "    X = df_train[df_train.columns[1:]].values\n",
    "    y = df_train[\"label\"].values.reshape(-1, 1)\n",
    "    pca = metnum.PCA(alfa)\n",
    "    X = pca.transform(X)\n",
    "    limit = int(0.8 * X.shape[0]) \n",
    "    X_train, y_train = X[:limit], y[:limit]\n",
    "    X_val, y_val = X[limit:], y[limit:]\n",
    "    clf = metnum.KNNClassifier(k)\n",
    "    clf.fit(X_train, y_train)\n",
    "    y_pred = clf.predict(X_val)\n",
    "    acc = accuracy_score(y_val, y_pred)\n",
    "    return acc"
   ]
  },
  {
   "cell_type": "code",
   "execution_count": 28,
   "id": "72867da5",
   "metadata": {},
   "outputs": [],
   "source": [
    "k1_alfaVariable = []\n",
    "alfa = [2,3,4,5,10,15,20,25,30]\n",
    "\n",
    "for a in alfa:\n",
    "    acc = kNNconPCA(\"../data/train.csv\",1,a,100)\n",
    "    k1_alfaVariable.append(acc)"
   ]
  },
  {
   "cell_type": "code",
   "execution_count": 29,
   "id": "97a92623",
   "metadata": {},
   "outputs": [
    {
     "data": {
      "text/plain": [
       "[0.37285714285714283,\n",
       " 0.4357142857142857,\n",
       " 0.5620238095238095,\n",
       " 0.6834523809523809,\n",
       " 0.9158333333333334,\n",
       " 0.9482142857142857,\n",
       " 0.9644047619047619,\n",
       " 0.9692857142857143,\n",
       " 0.9726190476190476]"
      ]
     },
     "execution_count": 29,
     "metadata": {},
     "output_type": "execute_result"
    }
   ],
   "source": [
    "k1_alfaVariable"
   ]
  },
  {
   "cell_type": "code",
   "execution_count": 20,
   "id": "00b7beb5",
   "metadata": {},
   "outputs": [
    {
     "data": {
      "text/plain": [
       "0.9728571428571429"
      ]
     },
     "execution_count": 20,
     "metadata": {},
     "output_type": "execute_result"
    }
   ],
   "source": [
    "alfa = 35\n",
    "kNNconPCA(\"../data/train.csv\",1,alfa,100)"
   ]
  },
  {
   "cell_type": "code",
   "execution_count": 21,
   "id": "99f237d1",
   "metadata": {},
   "outputs": [
    {
     "data": {
      "text/plain": [
       "0.9721428571428572"
      ]
     },
     "execution_count": 21,
     "metadata": {},
     "output_type": "execute_result"
    }
   ],
   "source": [
    "alfa = 40\n",
    "kNNconPCA(\"../data/train.csv\",1,alfa,100)"
   ]
  },
  {
   "cell_type": "code",
   "execution_count": 22,
   "id": "96716d7f",
   "metadata": {},
   "outputs": [
    {
     "data": {
      "text/plain": [
       "0.9730952380952381"
      ]
     },
     "execution_count": 22,
     "metadata": {},
     "output_type": "execute_result"
    }
   ],
   "source": [
    "alfa = 34\n",
    "kNNconPCA(\"../data/train.csv\",1,alfa,100)"
   ]
  },
  {
   "cell_type": "code",
   "execution_count": 23,
   "id": "b1f9992b",
   "metadata": {},
   "outputs": [
    {
     "data": {
      "text/plain": [
       "0.973452380952381"
      ]
     },
     "execution_count": 23,
     "metadata": {},
     "output_type": "execute_result"
    }
   ],
   "source": [
    "alfa = 33\n",
    "kNNconPCA(\"../data/train.csv\",1,alfa,100)"
   ]
  },
  {
   "cell_type": "code",
   "execution_count": 24,
   "id": "1649eefd",
   "metadata": {},
   "outputs": [
    {
     "data": {
      "text/plain": [
       "0.9729761904761904"
      ]
     },
     "execution_count": 24,
     "metadata": {},
     "output_type": "execute_result"
    }
   ],
   "source": [
    "alfa = 32\n",
    "kNNconPCA(\"../data/train.csv\",1,alfa,100)"
   ]
  },
  {
   "cell_type": "markdown",
   "id": "56d2929a",
   "metadata": {},
   "source": [
    "### Bueno. El mejor alfa es 33. Ahora fijo alfa y pruebo subiendo k."
   ]
  },
  {
   "cell_type": "code",
   "execution_count": 26,
   "id": "1ef5208c",
   "metadata": {},
   "outputs": [
    {
     "name": "stderr",
     "output_type": "stream",
     "text": [
      "100%|██████████| 9/9 [14:39<00:00, 97.70s/it]\n"
     ]
    }
   ],
   "source": [
    "from tqdm import tqdm\n",
    "\n",
    "alfa = 33\n",
    "ks = [2,3,4,5,6,7,8,9,10]\n",
    "alfa33_kVariable = []\n",
    "\n",
    "for k in tqdm(ks):\n",
    "    acc = kNNconPCA(\"../data/train.csv\",k,alfa,100)\n",
    "    alfa33_kVariable.append(acc)"
   ]
  },
  {
   "cell_type": "code",
   "execution_count": 27,
   "id": "7c077156",
   "metadata": {},
   "outputs": [
    {
     "data": {
      "text/plain": [
       "[0.9701190476190477,\n",
       " 0.9760714285714286,\n",
       " 0.9769047619047619,\n",
       " 0.9760714285714286,\n",
       " 0.9757142857142858,\n",
       " 0.9744047619047619,\n",
       " 0.9745238095238096,\n",
       " 0.9729761904761904,\n",
       " 0.9726190476190476]"
      ]
     },
     "execution_count": 27,
     "metadata": {},
     "output_type": "execute_result"
    }
   ],
   "source": [
    "alfa33_kVariable"
   ]
  },
  {
   "cell_type": "markdown",
   "id": "ac42c6ce",
   "metadata": {},
   "source": [
    "### Listo. La mejor combinación es k = 4 y alfa = 33."
   ]
  },
  {
   "cell_type": "code",
   "execution_count": null,
   "id": "7a17fdbc",
   "metadata": {},
   "outputs": [],
   "source": []
  }
 ],
 "metadata": {
  "kernelspec": {
   "display_name": "Python 3",
   "language": "python",
   "name": "python3"
  },
  "language_info": {
   "codemirror_mode": {
    "name": "ipython",
    "version": 3
   },
   "file_extension": ".py",
   "mimetype": "text/x-python",
   "name": "python",
   "nbconvert_exporter": "python",
   "pygments_lexer": "ipython3",
   "version": "3.6.5"
  }
 },
 "nbformat": 4,
 "nbformat_minor": 5
}

{
 "cells": [
  {
   "cell_type": "markdown",
   "id": "83446dab",
   "metadata": {},
   "source": [
    "# Accuracy "
   ]
  },
  {
   "cell_type": "markdown",
   "id": "164c28f9",
   "metadata": {},
   "source": [
    "## KNN + PCA"
   ]
  },
  {
   "cell_type": "code",
   "execution_count": 1,
   "id": "bd129285",
   "metadata": {},
   "outputs": [
    {
     "name": "stdout",
     "output_type": "stream",
     "text": [
      "     alpha    k  accuracy\n",
      "120     25    1  0.965595\n",
      "100     21    1  0.965000\n",
      "80      17    1  0.957857\n",
      "121     25   51  0.953571\n",
      "101     21   51  0.952024\n",
      "81      17   51  0.947143\n",
      "122     25  101  0.944286\n",
      "102     21  101  0.942976\n",
      "60      13    1  0.941667\n",
      "123     25  151  0.937976\n",
      "82      17  101  0.937619\n",
      "103     21  151  0.936667\n",
      "61      13   51  0.935119\n",
      "83      17  151  0.932381\n",
      "124     25  201  0.930833\n",
      "104     21  201  0.929881\n",
      "105     21  251  0.926190\n",
      "125     25  251  0.925595\n",
      "62      13  101  0.924881\n",
      "84      17  201  0.924643\n",
      "106     21  301  0.921905\n",
      "126     25  301  0.921190\n",
      "85      17  251  0.919405\n",
      "63      13  151  0.918690\n",
      "127     25  351  0.917976\n",
      "107     21  351  0.917024\n",
      "86      17  301  0.913810\n",
      "128     25  401  0.913690\n",
      "108     21  401  0.912619\n",
      "64      13  201  0.911786\n",
      "..     ...  ...       ...\n",
      "31       5  551  0.722738\n",
      "32       5  601  0.721071\n",
      "33       5  651  0.719048\n",
      "34       5  701  0.716429\n",
      "35       5  751  0.714762\n",
      "36       5  801  0.712500\n",
      "37       5  851  0.710714\n",
      "38       5  901  0.709405\n",
      "39       5  951  0.709286\n",
      "20       5    1  0.685119\n",
      "18       1  901  0.318810\n",
      "16       1  801  0.318095\n",
      "19       1  951  0.317619\n",
      "15       1  751  0.316548\n",
      "14       1  701  0.316429\n",
      "13       1  651  0.315952\n",
      "17       1  851  0.315714\n",
      "11       1  551  0.314762\n",
      "10       1  501  0.314167\n",
      "9        1  451  0.313452\n",
      "12       1  601  0.313333\n",
      "8        1  401  0.311905\n",
      "7        1  351  0.310952\n",
      "6        1  301  0.307024\n",
      "4        1  201  0.306190\n",
      "2        1  101  0.305357\n",
      "5        1  251  0.304524\n",
      "3        1  151  0.302976\n",
      "1        1   51  0.292262\n",
      "0        1    1  0.253690\n",
      "\n",
      "[140 rows x 3 columns]\n"
     ]
    }
   ],
   "source": [
    "import csv\n",
    "\n",
    "import pandas as pd\n",
    "with open('../../resultados/knn_pca_acuracy_acotado.csv', newline='') as csvfile:\n",
    "    spamreader = csv.reader(csvfile, delimiter=(','), quotechar='|')\n",
    "\n",
    "    for row in spamreader:\n",
    "        raw_data = row\n",
    "    \n",
    "    # Me quedo la data sucia con \"[ y ]\" en los extremos, los quiero sacar.\n",
    "    data = [] \n",
    "    cols = ['alpha','k','accuracy']\n",
    "    result = 0\n",
    "    for i in range(0,len(raw_data),3):\n",
    "        data_row = [ ]\n",
    "        alpha = raw_data[i][2:]\n",
    "        k = raw_data[i+1][1:]\n",
    "        accuracy = raw_data[i+2][1:-2]\n",
    "        data_row.append(int(alpha))\n",
    "        data_row.append(int(k))\n",
    "        data_row.append(float(accuracy))\n",
    "        data.append(data_row)\n",
    "    df=pd.DataFrame(data,columns=['alpha','k','accuracy'])\n",
    "    df = df.sort_values('accuracy',ascending = False)\n",
    "    print(df)"
   ]
  },
  {
   "cell_type": "code",
   "execution_count": 22,
   "id": "91628b27",
   "metadata": {},
   "outputs": [
    {
     "data": {
      "image/png": "[encoded data removed]",
      "text/plain": [
       "<Figure size 432x288 with 2 Axes>"
      ]
     },
     "metadata": {
      "needs_background": "light"
     },
     "output_type": "display_data"
    }
   ],
   "source": [
    "import seaborn as sns\n",
    "import pandas as pd\n",
    "\n",
    "pivot = df.pivot(index='alpha', columns='k', values='accuracy')\n",
    "ax = sns.heatmap(pivot,annot=False)\n",
    "plt.savefig('../resultados/knn_pca_acuracy', dpi =500,bbox_inches = \"tight\")\n",
    "plt.show()"
   ]
  },
  {
   "cell_type": "markdown",
   "id": "b0c1091d",
   "metadata": {},
   "source": [
    "# KNN solo"
   ]
  },
  {
   "cell_type": "code",
   "execution_count": 3,
   "id": "19f239c7",
   "metadata": {},
   "outputs": [
    {
     "name": "stdout",
     "output_type": "stream",
     "text": [
      "['\"0.9727380952380953\"', '\"0.8767857142857143\"', '\"0.834047619047619\"', '\"0.7992857142857143\"', '\"0.7747619047619048\"', '\"0.753095238095238\"', '\"0.7316666666666667\"', '\"0.7095238095238096\"', '\"0.6902380952380952\"', '\"0.675952380952381\"', '\"0.6610714285714285\"', '\"0.6444047619047619\"', '\"0.6307142857142857\"', '\"0.6159523809523809\"', '\"0.6004761904761905\"', '\"0.5855952380952381\"', '\"0.5739285714285715\"', '\"0.5591666666666667\"', '\"0.545\"', '\"0.5328571428571428\"', '\"0.5207142857142857\"', '\"0.5083333333333333\"', '\"0.49416666666666664\"', '\"0.48142857142857143\"', '\"0.46976190476190477\"', '\"0.4569047619047619\"', '\"0.4467857142857143\"', '\"0.43726190476190474\"', '\"0.4282142857142857\"', '\"0.4164285714285714\"', '\"0.4069047619047619\"', '\"0.3973809523809524\"', '\"0.38654761904761903\"', '\"0.37583333333333335\"', '\"0.36523809523809525\"', '\"0.3532142857142857\"', '\"0.3413095238095238\"', '\"0.33095238095238094\"', '\"0.3192857142857143\"', '\"0.30988095238095237\"', '\"0.3\"', '\"0.2895238095238095\"', '\"0.2788095238095238\"', '\"0.2673809523809524\"', '\"0.2546428571428571\"', '\"0.24583333333333332\"', '\"0.23511904761904762\"', '\"0.2251190476190476\"', '\"0.21642857142857144\"', '\"0.20511904761904762\"', '\"0.19380952380952382\"', '\"0.18369047619047618\"', '\"0.17357142857142857\"', '\"0.16476190476190475\"', '\"0.15761904761904763\"', '\"0.1488095238095238\"', '\"0.14166666666666666\"', '\"0.13440476190476192\"', '\"0.12833333333333333\"', '\"0.12285714285714286\"', '\"0.11821428571428572\"', '\"0.11488095238095238\"', '\"0.11178571428571428\"', '\"0.10976190476190475\"', '\"0.10952380952380952\"', '\"0.10928571428571429\"', '\"0.10904761904761905\"', '\"0.10904761904761905\"']\n"
     ]
    },
    {
     "ename": "ValueError",
     "evalue": "invalid literal for int() with base 10: '0.8767857142857143\"'",
     "output_type": "error",
     "traceback": [
      "\u001b[0;31m---------------------------------------------------------------------------\u001b[0m",
      "\u001b[0;31mValueError\u001b[0m                                Traceback (most recent call last)",
      "\u001b[0;32m<ipython-input-3-730d6783543e>\u001b[0m in \u001b[0;36m<module>\u001b[0;34m\u001b[0m\n\u001b[1;32m     19\u001b[0m         \u001b[0mk\u001b[0m \u001b[0;34m=\u001b[0m \u001b[0mraw_data\u001b[0m\u001b[0;34m[\u001b[0m\u001b[0mi\u001b[0m\u001b[0;34m+\u001b[0m\u001b[0;36m1\u001b[0m\u001b[0;34m]\u001b[0m\u001b[0;34m[\u001b[0m\u001b[0;36m1\u001b[0m\u001b[0;34m:\u001b[0m\u001b[0;34m]\u001b[0m\u001b[0;34m\u001b[0m\u001b[0m\n\u001b[1;32m     20\u001b[0m         \u001b[0maccuracy\u001b[0m \u001b[0;34m=\u001b[0m \u001b[0mraw_data\u001b[0m\u001b[0;34m[\u001b[0m\u001b[0mi\u001b[0m\u001b[0;34m+\u001b[0m\u001b[0;36m2\u001b[0m\u001b[0;34m]\u001b[0m\u001b[0;34m[\u001b[0m\u001b[0;36m1\u001b[0m\u001b[0;34m:\u001b[0m\u001b[0;34m-\u001b[0m\u001b[0;36m2\u001b[0m\u001b[0;34m]\u001b[0m\u001b[0;34m\u001b[0m\u001b[0m\n\u001b[0;32m---> 21\u001b[0;31m         \u001b[0mdata_row\u001b[0m\u001b[0;34m.\u001b[0m\u001b[0mappend\u001b[0m\u001b[0;34m(\u001b[0m\u001b[0mint\u001b[0m\u001b[0;34m(\u001b[0m\u001b[0mk\u001b[0m\u001b[0;34m)\u001b[0m\u001b[0;34m)\u001b[0m\u001b[0;34m\u001b[0m\u001b[0m\n\u001b[0m\u001b[1;32m     22\u001b[0m         \u001b[0mdata_row\u001b[0m\u001b[0;34m.\u001b[0m\u001b[0mappend\u001b[0m\u001b[0;34m(\u001b[0m\u001b[0mfloat\u001b[0m\u001b[0;34m(\u001b[0m\u001b[0maccuracy\u001b[0m\u001b[0;34m)\u001b[0m\u001b[0;34m)\u001b[0m\u001b[0;34m\u001b[0m\u001b[0m\n\u001b[1;32m     23\u001b[0m         \u001b[0mdata\u001b[0m\u001b[0;34m.\u001b[0m\u001b[0mappend\u001b[0m\u001b[0;34m(\u001b[0m\u001b[0mdata_row\u001b[0m\u001b[0;34m)\u001b[0m\u001b[0;34m\u001b[0m\u001b[0m\n",
      "\u001b[0;31mValueError\u001b[0m: invalid literal for int() with base 10: '0.8767857142857143\"'"
     ]
    }
   ],
   "source": [
    "import csv\n",
    "import re\n",
    "import pandas as pd\n",
    "import matplotlib.pyplot as plt\n",
    "with open('../../resultados/knn_solo_acuracy_acotado.csv', newline='') as csvfile:\n",
    "    spamreader = csv.reader(csvfile, delimiter=(','), quotechar='|')\n",
    "\n",
    "    for row in spamreader:\n",
    "        raw_data = row\n",
    "    \n",
    "    # Me quedo la data sucia con \"[ y ]\" en los extremos, los quiero sacar.\n",
    "    data = [] \n",
    "\n",
    "    result = 0\n",
    "    for i in range(0,len(raw_data),3):\n",
    "        data_row = [ ]\n",
    "        alpha = raw_data[i][2:]\n",
    "        print(raw_data)\n",
    "        k = raw_data[i+1][1:]\n",
    "        accuracy = raw_data[i+2][1:-2]\n",
    "        data_row.append(int(k))\n",
    "        data_row.append(float(accuracy))\n",
    "        data.append(data_row)\n",
    "    print(data)\n",
    "    df=pd.DataFrame(data,columns=['k','accuracy'])\n",
    "    df = df.sort_values('accuracy',ascending = False)\n",
    "    print(df)\n",
    "    image = df.plot.scatter(x = 'k', y = 'accuracy');\n",
    "    image.figure.savefig('../resultados/knn_solo_acuracy')\n",
    "   "
   ]
  }
 ],
 "metadata": {
  "kernelspec": {
   "display_name": "Python 3",
   "language": "python",
   "name": "python3"
  },
  "language_info": {
   "codemirror_mode": {
    "name": "ipython",
    "version": 3
   },
   "file_extension": ".py",
   "mimetype": "text/x-python",
   "name": "python",
   "nbconvert_exporter": "python",
   "pygments_lexer": "ipython3",
   "version": "3.6.5"
  }
 },
 "nbformat": 4,
 "nbformat_minor": 5
}
